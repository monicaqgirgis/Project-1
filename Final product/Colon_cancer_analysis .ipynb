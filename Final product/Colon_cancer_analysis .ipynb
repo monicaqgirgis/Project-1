{
 "cells": [
  {
   "cell_type": "markdown",
   "metadata": {},
   "source": [
    "# Project 1    Final Analysis                                  \n",
    "### Documented Colon Cancer Diagnoses (excluding rectum) in the the United States 2005-2022\n",
    "---\n",
    "\n",
    "\n",
    " "
   ]
  },
  {
   "cell_type": "markdown",
   "metadata": {},
   "source": [
    "## Set up"
   ]
  },
  {
   "cell_type": "code",
   "execution_count": 134,
   "metadata": {},
   "outputs": [],
   "source": [
    "# Dependencies and Setup\n",
    "import matplotlib.pyplot as plt\n",
    "import pandas as pd\n",
    "import scipy.stats as st\n",
    "from scipy.stats import linregress\n",
    "import numpy as np\n",
    "from matplotlib.ticker import MaxNLocator\n",
    "import os\n",
    "import seaborn as sns"
   ]
  },
  {
   "cell_type": "code",
   "execution_count": 135,
   "metadata": {},
   "outputs": [
    {
     "data": {
      "text/html": [
       "<div>\n",
       "<style scoped>\n",
       "    .dataframe tbody tr th:only-of-type {\n",
       "        vertical-align: middle;\n",
       "    }\n",
       "\n",
       "    .dataframe tbody tr th {\n",
       "        vertical-align: top;\n",
       "    }\n",
       "\n",
       "    .dataframe thead th {\n",
       "        text-align: right;\n",
       "    }\n",
       "</style>\n",
       "<table border=\"1\" class=\"dataframe\">\n",
       "  <thead>\n",
       "    <tr style=\"text-align: right;\">\n",
       "      <th></th>\n",
       "      <th>Race</th>\n",
       "      <th>Sex</th>\n",
       "      <th>Year</th>\n",
       "      <th>Age</th>\n",
       "      <th>In the natural position of diagnosis</th>\n",
       "      <th>Localized</th>\n",
       "      <th>Regional</th>\n",
       "      <th>Distant</th>\n",
       "      <th>Unknown Stage</th>\n",
       "      <th>Blanks/ Meets NO requirements as whole</th>\n",
       "    </tr>\n",
       "  </thead>\n",
       "  <tbody>\n",
       "    <tr>\n",
       "      <th>0</th>\n",
       "      <td>White</td>\n",
       "      <td>Male/Female</td>\n",
       "      <td>2000</td>\n",
       "      <td>&lt;1 year</td>\n",
       "      <td>1</td>\n",
       "      <td>3</td>\n",
       "      <td>1</td>\n",
       "      <td>0</td>\n",
       "      <td>0</td>\n",
       "      <td>0</td>\n",
       "    </tr>\n",
       "    <tr>\n",
       "      <th>1</th>\n",
       "      <td>White</td>\n",
       "      <td>Male/Female</td>\n",
       "      <td>2000</td>\n",
       "      <td>01-04 years</td>\n",
       "      <td>0</td>\n",
       "      <td>2</td>\n",
       "      <td>0</td>\n",
       "      <td>0</td>\n",
       "      <td>0</td>\n",
       "      <td>0</td>\n",
       "    </tr>\n",
       "    <tr>\n",
       "      <th>2</th>\n",
       "      <td>White</td>\n",
       "      <td>Male/Female</td>\n",
       "      <td>2000</td>\n",
       "      <td>05-09 years</td>\n",
       "      <td>0</td>\n",
       "      <td>43</td>\n",
       "      <td>13</td>\n",
       "      <td>0</td>\n",
       "      <td>0</td>\n",
       "      <td>1</td>\n",
       "    </tr>\n",
       "    <tr>\n",
       "      <th>3</th>\n",
       "      <td>White</td>\n",
       "      <td>Male/Female</td>\n",
       "      <td>2000</td>\n",
       "      <td>10-14 years</td>\n",
       "      <td>0</td>\n",
       "      <td>247</td>\n",
       "      <td>72</td>\n",
       "      <td>14</td>\n",
       "      <td>4</td>\n",
       "      <td>14</td>\n",
       "    </tr>\n",
       "    <tr>\n",
       "      <th>4</th>\n",
       "      <td>White</td>\n",
       "      <td>Male/Female</td>\n",
       "      <td>2000</td>\n",
       "      <td>15-19 years</td>\n",
       "      <td>8</td>\n",
       "      <td>484</td>\n",
       "      <td>179</td>\n",
       "      <td>45</td>\n",
       "      <td>21</td>\n",
       "      <td>42</td>\n",
       "    </tr>\n",
       "  </tbody>\n",
       "</table>\n",
       "</div>"
      ],
      "text/plain": [
       "    Race          Sex  Year          Age  \\\n",
       "0  White  Male/Female  2000      <1 year   \n",
       "1  White  Male/Female  2000  01-04 years   \n",
       "2  White  Male/Female  2000  05-09 years   \n",
       "3  White  Male/Female  2000  10-14 years   \n",
       "4  White  Male/Female  2000  15-19 years   \n",
       "\n",
       "   In the natural position of diagnosis  Localized  Regional  Distant  \\\n",
       "0                                     1          3         1        0   \n",
       "1                                     0          2         0        0   \n",
       "2                                     0         43        13        0   \n",
       "3                                     0        247        72       14   \n",
       "4                                     8        484       179       45   \n",
       "\n",
       "   Unknown Stage  Blanks/ Meets NO requirements as whole  \n",
       "0              0                                       0  \n",
       "1              0                                       0  \n",
       "2              0                                       1  \n",
       "3              4                                      14  \n",
       "4             21                                      42  "
      ]
     },
     "execution_count": 135,
     "metadata": {},
     "output_type": "execute_result"
    }
   ],
   "source": [
    "# Load the dataset\n",
    "file_path = \"/Users/alyssaberridge/Desktop/Projects/Project-1/Resources/Modified_Cleaned_Cancer_Project.csv\"\n",
    "df = pd.read_csv(file_path)\n",
    "# Display the first few rows\n",
    "df.head()"
   ]
  },
  {
   "cell_type": "code",
   "execution_count": 136,
   "metadata": {},
   "outputs": [],
   "source": [
    "# Create output directory \n",
    "output_dir = \"/Users/alyssaberridge/Desktop/Projects/Project-1/output_data\"\n",
    "if not os.path.exists(output_dir):\n",
    "    os.makedirs(output_dir)"
   ]
  },
  {
   "cell_type": "code",
   "execution_count": 137,
   "metadata": {},
   "outputs": [
    {
     "data": {
      "text/plain": [
       "Index(['Race', 'Sex', 'Year', 'Age', 'In the natural position of diagnosis',\n",
       "       'Localized', 'Regional', 'Distant', 'Unknown Stage',\n",
       "       'Blanks/ Meets NO requirements as whole'],\n",
       "      dtype='object')"
      ]
     },
     "execution_count": 137,
     "metadata": {},
     "output_type": "execute_result"
    }
   ],
   "source": [
    "# available columns\n",
    "df.columns"
   ]
  },
  {
   "cell_type": "code",
   "execution_count": 138,
   "metadata": {},
   "outputs": [
    {
     "name": "stdout",
     "output_type": "stream",
     "text": [
      "    Year  Regional\n",
      "0   2000    615760\n",
      "1   2001         0\n",
      "2   2002         0\n",
      "3   2003         0\n",
      "4   2004         0\n",
      "5   2005     38118\n",
      "6   2006     36364\n",
      "7   2007     35882\n",
      "8   2008     36172\n",
      "9   2009     35816\n",
      "10  2010     34764\n",
      "11  2011     33698\n",
      "12  2012     32988\n",
      "13  2013     32806\n",
      "14  2014     32280\n",
      "15  2015     32126\n",
      "16  2016     32092\n",
      "17  2017     35214\n",
      "18  2018     34414\n",
      "19  2019     32458\n",
      "20  2020     33912\n",
      "21  2021     31302\n",
      "22  2022     35354\n"
     ]
    }
   ],
   "source": [
    "# Unfiltered table results \n",
    "# Group by 'Year' and sum the 'Regionals' column\n",
    "cases_per_year = df.groupby('Year')['Regional'].sum().reset_index()\n",
    "\n",
    "# Display the resulting table\n",
    "print(cases_per_year)\n"
   ]
  },
  {
   "cell_type": "markdown",
   "metadata": {},
   "source": [
    "# All visuals for Total Documented Cases per year"
   ]
  },
  {
   "cell_type": "markdown",
   "metadata": {},
   "source": [
    "## Table "
   ]
  },
  {
   "cell_type": "code",
   "execution_count": 139,
   "metadata": {},
   "outputs": [
    {
     "data": {
      "text/plain": [
       "Year\n",
       "2000    307880\n",
       "2001         0\n",
       "2002         0\n",
       "2003         0\n",
       "2004         0\n",
       "2005     19059\n",
       "2006     18182\n",
       "2007     17941\n",
       "2008     18086\n",
       "2009     17908\n",
       "2010     17382\n",
       "2011     16849\n",
       "2012     16494\n",
       "2013     16403\n",
       "2014     16140\n",
       "2015     16063\n",
       "2016     16046\n",
       "2017     17607\n",
       "2018     17207\n",
       "2019     16229\n",
       "2020     16956\n",
       "2021     15651\n",
       "2022     17677\n",
       "Name: Regional, dtype: int64"
      ]
     },
     "execution_count": 139,
     "metadata": {},
     "output_type": "execute_result"
    }
   ],
   "source": [
    "# Cleaned Regional documented cases per year\n",
    "# Clean up the 'Sex' column by removing 'Male/Female'  available columns\n",
    "df_cleaned = df[df[\"Sex\"] != \"Male/Female\"] \n",
    "\n",
    "#The the Sum of Regional per year \n",
    "df_cleaned.groupby(\"Year\")[\"Regional\"].sum()\n"
   ]
  },
  {
   "cell_type": "markdown",
   "metadata": {},
   "source": [
    "## Bar Graph "
   ]
  },
  {
   "cell_type": "code",
   "execution_count": 140,
   "metadata": {},
   "outputs": [],
   "source": [
    "# Creating a bar graph for Regional cases overtime per year with whole numbers starting from 2005\n",
    "# Clean up the 'Sex' column by removing 'Male/Female'\n",
    "df_cleaned = df[df[\"Sex\"] != \"Male/Female\"]  \n",
    "\n",
    "# Exclude the years 2000 to 2004\n",
    "df_cleaned = df_cleaned[(df_cleaned[\"Year\"] < 2000) | (df_cleaned[\"Year\"] > 2004)]\n",
    "\n",
    "# Group by 'Year' and sum Regional (now using cleaned data)\n",
    "df_cleaned.groupby(\"Year\")[\"Regional\"].sum().plot(kind=\"bar\", figsize=(12, 6), width=0.5)\n",
    "\n",
    "# Add labels and title\n",
    "plt.xlabel(\"Year of Diagnosis\")\n",
    "plt.ylabel(\" Total Regional Cases\")\n",
    "plt.title(\"Regional Diagnoses Per Year\")\n",
    "\n",
    "# Format the y-axis to show whole numbers (integers)\n",
    "plt.gca().yaxis.set_major_locator(MaxNLocator(integer=True))\n",
    "\n",
    "# Only gridlines for y-axis\n",
    "plt.grid(True, axis='y', linestyle=\"--\", alpha=0.6)\n",
    "\n",
    "# Save the bar graph\n",
    "plt.savefig(os.path.join(output_dir, \"Per_year_Regional_diagnoses_Bar_Graph.png\"))\n",
    "plt.close()\n",
    "\n",
    "# Show the plot\n",
    "plt.show()"
   ]
  },
  {
   "cell_type": "markdown",
   "metadata": {},
   "source": [
    "## Line graph "
   ]
  },
  {
   "cell_type": "code",
   "execution_count": 141,
   "metadata": {},
   "outputs": [],
   "source": [
    "#creating a line graph of Regional cases overtime per year with whole numbers starting from 2005\n",
    "#single year brakets \n",
    "# Group by 'Year' and sum 'Regional Cases' (now using cleaned data)\n",
    "df_cleaned.groupby(\"Year\")[\"Regional\"].sum().plot(kind=\"line\", marker=\"o\", figsize=(10, 5))\n",
    "\n",
    "# Add labels and title\n",
    "plt.xlabel(\"Year of Diagnosis\")\n",
    "plt.ylabel(\"Total Regional Cases\")\n",
    "plt.title(\"Trend of Regional Diagnoses Over Time\")\n",
    "\n",
    "# Format the y-axis to show whole numbers (integers)\n",
    "plt.gca().yaxis.set_major_locator(MaxNLocator(integer=True))\n",
    "\n",
    "# Set x-ticks to show each year in the data\n",
    "plt.xticks(ticks=df_cleaned[\"Year\"].unique(), rotation=45)  # Ensures each year is a tick, rotated for better readability\n",
    "plt.grid(True)\n",
    "\n",
    "# Save the line graph\n",
    "plt.savefig(os.path.join(output_dir, \"Per_year_Regional_diagnoses_Line_Graph.png\"))\n",
    "plt.close()\n",
    "\n",
    "plt.show()"
   ]
  },
  {
   "cell_type": "markdown",
   "metadata": {},
   "source": [
    "## Trend line "
   ]
  },
  {
   "cell_type": "code",
   "execution_count": 142,
   "metadata": {},
   "outputs": [],
   "source": [
    "#creating a Trendline of Regional cases overtime per year with whole numbers starting from 2005\n",
    "# Group by 'Year' and sum 'Total Documented Cases'\n",
    "df_yearly_cases = df_cleaned.groupby(\"Year\")[\"Regional\"].sum()\n",
    "\n",
    "# Plot the Regional cases as a line graph with markers\n",
    "plt.figure(figsize=(10, 5))\n",
    "plt.plot(df_yearly_cases.index, df_yearly_cases.values, marker=\"o\", label=\"Regional\")\n",
    "\n",
    "# Calculate the trend line (linear regression)\n",
    "slope, intercept, r_value, p_value, std_err = linregress(df_yearly_cases.index, df_yearly_cases.values)\n",
    "\n",
    "# Create the trend line\n",
    "trend_line = slope * df_yearly_cases.index + intercept\n",
    "\n",
    "# Plot the trend line\n",
    "plt.plot(df_yearly_cases.index, trend_line, linestyle='--', color='red', label='Trend Line')\n",
    "\n",
    "# Add labels and title\n",
    "plt.xlabel(\"Year of Diagnosis\")\n",
    "plt.ylabel(\"Total Regional Cases\")\n",
    "plt.title(\"Trend of Regional Diagnoses Over Time with Trend Line\")\n",
    "\n",
    "# Formatting y-axis to show whole numbers (integers)\n",
    "plt.gca().yaxis.set_major_locator(MaxNLocator(integer=True))\n",
    "\n",
    "# Set x-ticks to show each year in the data\n",
    "plt.xticks(ticks=df_cleaned[\"Year\"].unique(), rotation=45)  # Ensures each year is a tick, rotated for better readability\n",
    "\n",
    "# Add a legend\n",
    "plt.legend(title=\"Legend\", fontsize=10, title_fontsize=12)\n",
    "\n",
    "# Add gridlines \n",
    "plt.grid(True)\n",
    "\n",
    "# Save the trend line graph\n",
    "plt.savefig(os.path.join(output_dir, \"Per_year_Regional_diagnoses_with_trend_line.png\"))\n",
    "plt.close()\n",
    "\n",
    "# Show the plot\n",
    "plt.show()\n",
    "\n"
   ]
  },
  {
   "cell_type": "markdown",
   "metadata": {},
   "source": [
    "# Visuals for each stage of diagnosis per year"
   ]
  },
  {
   "cell_type": "markdown",
   "metadata": {},
   "source": [
    "## Table "
   ]
  },
  {
   "cell_type": "code",
   "execution_count": 143,
   "metadata": {},
   "outputs": [
    {
     "name": "stdout",
     "output_type": "stream",
     "text": [
      "      In the natural position of diagnosis  Localized  Regional  Distant  \\\n",
      "Year                                                                       \n",
      "2005                                  3131      19102     19059    10085   \n",
      "2006                                  3025      19472     18182     9897   \n",
      "2007                                  2848      19445     17941     9901   \n",
      "2008                                  2711      19374     18086     9765   \n",
      "2009                                  2473      19854     17908    10079   \n",
      "2010                                  2413      19158     17382     9906   \n",
      "2011                                  2096      18135     16849    10227   \n",
      "2012                                  1744      18052     16494    10172   \n",
      "2013                                  1950      18115     16403    10162   \n",
      "2014                                  2044      17960     16140     9968   \n",
      "2015                                  1627      18727     16063    10645   \n",
      "2016                                  1549      18758     16046    10563   \n",
      "2017                                  1735      17247     17607    10447   \n",
      "2018                                  1628      16741     17207    10516   \n",
      "2019                                  1055      17624     16229    11126   \n",
      "2020                                  1042      17654     16956    11351   \n",
      "2021                                   692      14664     15651    10671   \n",
      "2022                                   635      16609     17677    11130   \n",
      "\n",
      "      Unknown Stage  \n",
      "Year                 \n",
      "2005           2754  \n",
      "2006           2835  \n",
      "2007           2807  \n",
      "2008           2731  \n",
      "2009           2628  \n",
      "2010           2623  \n",
      "2011           2465  \n",
      "2012           2386  \n",
      "2013           2485  \n",
      "2014           2562  \n",
      "2015           2725  \n",
      "2016           2988  \n",
      "2017           2884  \n",
      "2018           2946  \n",
      "2019           3316  \n",
      "2020           3135  \n",
      "2021           3032  \n",
      "2022           2806  \n"
     ]
    }
   ],
   "source": [
    "# Cleaned Table for each stage diagnosed per year starting at 20005\n",
    "# Group by 'Year' and sum the different stages\n",
    "stages_columns = ['In the natural position of diagnosis', 'Localized', 'Regional', 'Distant', 'Unknown Stage']\n",
    "\n",
    "# Group by Year and sum the stages\n",
    "df_stages = df_cleaned.groupby(\"Year\")[stages_columns].sum()\n",
    "\n",
    "\n",
    "print(df_stages)"
   ]
  },
  {
   "cell_type": "markdown",
   "metadata": {},
   "source": [
    "## Bar graph "
   ]
  },
  {
   "cell_type": "code",
   "execution_count": 144,
   "metadata": {},
   "outputs": [],
   "source": [
    "#Creating a bar graph for each stage diagnosed per year NOT stacked starting from 2005\n",
    "# Plot the grouped bar chart (side-by-side bars for each stage)\n",
    "ax = df_stages.plot(kind='bar', figsize=(12, 6), width=0.8, colormap='tab20', edgecolor='none')\n",
    "\n",
    "# Add labels and title\n",
    "ax.set_xlabel(\"Year of Diagnosis\", fontsize=14)\n",
    "ax.set_ylabel(\"Total Cases by Stage\", fontsize=14)\n",
    "ax.set_title(\"Cancer Diagnoses at Various Stages Per Year\", fontsize=16)\n",
    "\n",
    "# Format the y-axis to show whole numbers\n",
    "ax.yaxis.set_major_locator(MaxNLocator(integer=True))\n",
    "\n",
    "# Rotate x-axis labels for better readability\n",
    "plt.xticks(rotation=45, ha='right', fontsize=12)\n",
    "\n",
    "# Add gridlines for better visibility\n",
    "plt.grid(True, axis='y', linestyle=\"--\", alpha=0.6)\n",
    "\n",
    "# Improve the legend \n",
    "ax.legend(title=\"Cancer Stages\", title_fontsize='13', bbox_to_anchor=(1.05, 1), loc='upper left', fontsize=12)\n",
    "\n",
    "# Adjust layout to prevent overlap and make the plot more aesthetically pleasing\n",
    "plt.tight_layout()\n",
    "\n",
    "# Save \n",
    "plt.savefig(os.path.join(output_dir, \"Stages_per_year_Regional_diagnoses_BarGraph.png\"))\n",
    "plt.close()\n",
    "\n",
    "# Show the plot\n",
    "plt.show()\n",
    "\n"
   ]
  },
  {
   "cell_type": "markdown",
   "metadata": {},
   "source": [
    "## Line graph "
   ]
  },
  {
   "cell_type": "code",
   "execution_count": 145,
   "metadata": {},
   "outputs": [],
   "source": [
    "# Creating a line graph for each stage diagnosed per year starting from 2005\n",
    "# Plot each stage as a separate trend line\n",
    "plt.figure(figsize=(12, 6))\n",
    "for column in stages_columns:\n",
    "    plt.plot(df_stages.index, df_stages[column], marker=\"o\", label=column)\n",
    "\n",
    "# Add labels and title\n",
    "plt.xlabel(\"Year of Diagnosis\")\n",
    "plt.ylabel(\"Total Cases by Stage\")\n",
    "plt.title(\"Cancer Diagnos at various stages Over Time\")\n",
    "\n",
    "# Formatting y-axis to show whole numbers (integers)\n",
    "plt.gca().yaxis.set_major_locator(MaxNLocator(integer=True))\n",
    "\n",
    "# Set x-ticks to show each year in the data\n",
    "plt.xticks(ticks=df_cleaned[\"Year\"].unique(), rotation=45)  \n",
    "\n",
    "# Add a legend\n",
    "plt.legend(title=\"Cancer Stage\", fontsize=10, title_fontsize=12)\n",
    "\n",
    "# Add gridlines for better visibility\n",
    "plt.grid(True, linestyle=\"--\", alpha=0.6)\n",
    "\n",
    "# Set the y-axis limits (start at 1500, stop at 30000)\n",
    "plt.ylim(0, 22000)\n",
    "\n",
    "# Save \n",
    "plt.tight_layout()  \n",
    "plt.savefig(os.path.join(output_dir, \"Stages_per_year_Regional_diagnoses_LineGraph.png\"))\n",
    "plt.close() \n",
    "\n",
    "# Show the plot\n",
    "plt.show()\n"
   ]
  },
  {
   "cell_type": "markdown",
   "metadata": {},
   "source": [
    "## Trend line "
   ]
  },
  {
   "cell_type": "code",
   "execution_count": 146,
   "metadata": {},
   "outputs": [],
   "source": [
    "# creating a trend line for Each stage diagnosed per year starting from 2005\n",
    "# Plot each stage as a separate trend line\n",
    "plt.figure(figsize=(12, 6))\n",
    "\n",
    "for column in stages_columns:\n",
    "    # Plot the data points for each stage\n",
    "    plt.plot(df_stages.index, df_stages[column], marker=\"o\", label=column)\n",
    "    \n",
    "    # Calculate the trend line (linear regression)\n",
    "    slope, intercept, r_value, p_value, std_err = linregress(df_stages.index, df_stages[column])\n",
    "    \n",
    "    # Create the trend line\n",
    "    trend_line = slope * df_stages.index + intercept\n",
    "    \n",
    "    # Plot the trend line\n",
    "    plt.plot(df_stages.index, trend_line, linestyle='--', label=f'{column} Trend Line')\n",
    "\n",
    "# Add labels and title\n",
    "plt.xlabel(\"Year of Diagnosis\")\n",
    "plt.ylabel(\"Total Cases by Stage\")\n",
    "plt.title(\"Cancer Diagnoses at Various Stages Over Time with Trend Lines\")\n",
    "\n",
    "# Formatting y-axis to show whole numbers (integers)\n",
    "plt.gca().yaxis.set_major_locator(MaxNLocator(integer=True))\n",
    "\n",
    "# Set x-ticks to show each year in the data\n",
    "plt.xticks(ticks=df_cleaned[\"Year\"].unique(), rotation=45)  # Ensures each year is a tick, rotated for better readability\n",
    "\n",
    "# Add a legend\n",
    "plt.legend(title=\"Cancer Stage\", fontsize=10, title_fontsize=12)\n",
    "\n",
    "# Add gridlines for better visibility\n",
    "plt.grid(True, linestyle=\"--\", alpha=0.6)\n",
    "\n",
    "# Set the y-axis limits (start at 1500, stop at 30000)\n",
    "plt.ylim(0, 22000)\n",
    "\n",
    "# Save the trend line graph\n",
    "plt.savefig(os.path.join(output_dir, \"Stages_per_year_Regional_diagnoses_Trendline.png\"))\n",
    "plt.close()\n",
    "\n",
    "# Show the plot\n",
    "plt.show()\n"
   ]
  },
  {
   "cell_type": "markdown",
   "metadata": {},
   "source": [
    "# All visuals of number of cases per race per year"
   ]
  },
  {
   "cell_type": "markdown",
   "metadata": {},
   "source": [
    "## Table"
   ]
  },
  {
   "cell_type": "code",
   "execution_count": 147,
   "metadata": {},
   "outputs": [
    {
     "name": "stdout",
     "output_type": "stream",
     "text": [
      "Year  Race  \n",
      "2005  Black     8099\n",
      "      Others    1063\n",
      "      White     9897\n",
      "2006  Black     7727\n",
      "      Others     996\n",
      "      White     9459\n",
      "2007  Black     7614\n",
      "      Others     989\n",
      "      White     9338\n",
      "2008  Black     7584\n",
      "      Others    1071\n",
      "      White     9431\n",
      "2009  Black     7570\n",
      "      Others     990\n",
      "      White     9348\n",
      "2010  Black     7312\n",
      "      Others     991\n",
      "      White     9079\n",
      "2011  Black     7031\n",
      "      Others    1003\n",
      "      White     8815\n",
      "2012  Black     6873\n",
      "      Others     956\n",
      "      White     8665\n",
      "2013  Black     6767\n",
      "      Others    1024\n",
      "      White     8612\n",
      "2014  Black     6693\n",
      "      Others     973\n",
      "      White     8474\n",
      "2015  Black     6693\n",
      "      Others     923\n",
      "      White     8447\n",
      "2016  Black     6642\n",
      "      Others     965\n",
      "      White     8439\n",
      "2017  Black     7278\n",
      "      Others    1036\n",
      "      White     9293\n",
      "2018  Black     7041\n",
      "      Others    1028\n",
      "      White     9138\n",
      "2019  Black     6650\n",
      "      Others     976\n",
      "      White     8603\n",
      "2020  Black     6952\n",
      "      Others    1047\n",
      "      White     8957\n",
      "2021  Black     6420\n",
      "      Others     961\n",
      "      White     8270\n",
      "2022  Black     7196\n",
      "      Others    1105\n",
      "      White     9376\n",
      "Name: Regional, dtype: int64\n"
     ]
    }
   ],
   "source": [
    "#Table of the number of cases per year per race \n",
    "# Group by 'Year' and 'Race' and sum 'Total Documented Cases'\n",
    "df_race_year = df_cleaned.groupby([\"Year\", \"Race\"])[\"Regional\"].sum()\n",
    "\n",
    "print (df_race_year)\n"
   ]
  },
  {
   "cell_type": "markdown",
   "metadata": {},
   "source": [
    "## Line graph "
   ]
  },
  {
   "cell_type": "code",
   "execution_count": 148,
   "metadata": {},
   "outputs": [],
   "source": [
    "#Creating a line graph number for of Regional cases per race per year \n",
    "# Group by 'Year' and 'Race' and sum 'Total Documented Cases'\n",
    "df_race_year = df_cleaned.groupby([\"Year\", \"Race\"])[\"Regional\"].sum().unstack()\n",
    "\n",
    "# Plot the data (you can adjust kind='line' or kind='bar' for the desired plot style)\n",
    "df_race_year.plot(kind='line', figsize=(12, 6), marker=\"o\")\n",
    "\n",
    "# Add labels and title\n",
    "plt.xlabel(\"Year of Diagnosis\")\n",
    "plt.ylabel(\"Total Regional Cases\")\n",
    "plt.title(\"Total Regional Cases Per Race Per Year\")\n",
    "\n",
    "# Formatting y-axis to show whole numbers (integers)\n",
    "from matplotlib.ticker import MaxNLocator\n",
    "plt.gca().yaxis.set_major_locator(MaxNLocator(integer=True))\n",
    "\n",
    "# Set x-ticks to show each year in the data\n",
    "plt.xticks(ticks=df_cleaned[\"Year\"].unique(), rotation=45)  # Ensures each year is a tick, rotated for better readability\n",
    "\n",
    "# Add a legend\n",
    "plt.legend(title=\"Race\", fontsize=10, title_fontsize=12)\n",
    "\n",
    "# Add gridlines for better visibility\n",
    "plt.grid(True, linestyle=\"--\", alpha=0.6)\n",
    "\n",
    "# Save \n",
    "plt.savefig(os.path.join(output_dir, \"Race_per_year_Regional_diagnoses_lineGraph.png\"))\n",
    "plt.close()\n",
    "\n",
    "# Show the plot\n",
    "plt.show()\n"
   ]
  },
  {
   "cell_type": "markdown",
   "metadata": {},
   "source": [
    "## Bar graph"
   ]
  },
  {
   "cell_type": "code",
   "execution_count": 149,
   "metadata": {},
   "outputs": [],
   "source": [
    "#Creating a bar graph for the number of Regional cases per year per race\n",
    "# Group by 'Year' and 'Race' and sum Regional\n",
    "df_race_year = df_cleaned.groupby([\"Year\", \"Race\"])[\"Regional\"].sum().unstack()\n",
    "\n",
    "# Plot the data as a bar graph\n",
    "df_race_year.plot(kind='bar', stacked=False, figsize=(12, 6))\n",
    "\n",
    "# Add labels and title\n",
    "plt.xlabel(\"Year of Diagnosis\")\n",
    "plt.ylabel(\"Total Regional Cases\")\n",
    "plt.title(\"Total Regional Cases Per Race Per Year\")\n",
    "\n",
    "# Formatting y-axis to show whole numbers (integers)\n",
    "from matplotlib.ticker import MaxNLocator\n",
    "plt.gca().yaxis.set_major_locator(MaxNLocator(integer=True))\n",
    "\n",
    "# Set x-ticks to show each year in the data\n",
    "plt.xticks(rotation=45)  # Ensures each year is a tick, rotated for better readability\n",
    "\n",
    "# Add a legend\n",
    "plt.legend(title=\"Race\", fontsize=10, title_fontsize=12)\n",
    "\n",
    "# Add gridlines for better visibility\n",
    "plt.grid(True, axis='y', linestyle=\"--\", alpha=0.6)\n",
    "\n",
    "# Save \n",
    "plt.savefig(os.path.join(output_dir, \"Race_per_year_Regional_diagnoses_BarGraph.png\"))\n",
    "plt.close()\n",
    "\n",
    "\n",
    "# Show the plot\n",
    "plt.show()\n"
   ]
  },
  {
   "cell_type": "markdown",
   "metadata": {},
   "source": [
    "## Trend line"
   ]
  },
  {
   "cell_type": "code",
   "execution_count": 150,
   "metadata": {},
   "outputs": [],
   "source": [
    "# Creating a trend line for  Regional Diagnosis for Ethnicities per year \n",
    "# Group by 'Year' and 'Race' and sum 'Regional'\n",
    "df_race_year = df_cleaned.groupby([\"Year\", \"Race\"])[\"Regional\"].sum().unstack()\n",
    "\n",
    "# Plot the data for each race (with markers)\n",
    "plt.figure(figsize=(12, 6))\n",
    "df_race_year.plot(kind='line', marker=\"o\", ax=plt.gca())\n",
    "\n",
    "# Add trend lines for each race\n",
    "for race in df_race_year.columns:\n",
    "    # Get the data for this race\n",
    "    race_data = df_race_year[race].dropna()  # Remove any NaN values\n",
    "    \n",
    "    # Perform linear regression (find the slope and intercept)\n",
    "    slope, intercept, r_value, p_value, std_err = linregress(race_data.index, race_data.values)\n",
    "    \n",
    "    # Calculate the trend line for the race\n",
    "    trend_line = slope * race_data.index + intercept\n",
    "    \n",
    "    # Plot the trend line for the race (dashed line)\n",
    "    plt.plot(race_data.index, trend_line, linestyle='--', label=f'{race} Trend Line')\n",
    "\n",
    "# Add labels and title\n",
    "plt.xlabel(\"Year of Diagnosis\")\n",
    "plt.ylabel(\"Total Regional Cases\")\n",
    "plt.title(\"Total Regional Cases Per Race Per Year with Trend Lines\")\n",
    "\n",
    "# Formatting y-axis to show whole numbers (integers)\n",
    "plt.gca().yaxis.set_major_locator(MaxNLocator(integer=True))\n",
    "\n",
    "# Set x-ticks to show each year in the data\n",
    "plt.xticks(ticks=df_cleaned[\"Year\"].unique(), rotation=45)  # Ensures each year is a tick, rotated for better readability\n",
    "\n",
    "# Add a legend\n",
    "plt.legend(title=\"Race & Trend Line\", fontsize=10, title_fontsize=12)\n",
    "\n",
    "# Add gridlines for better visibility\n",
    "plt.grid(True, linestyle=\"--\", alpha=0.6)\n",
    "\n",
    "# Save \n",
    "plt.savefig(os.path.join(output_dir, \"Race_per_year_Regional_diagnoses_trendline.png\"))\n",
    "plt.close()\n",
    "\n",
    "# Show the plot\n",
    "plt.show()\n"
   ]
  },
  {
   "cell_type": "markdown",
   "metadata": {},
   "source": [
    "# All Visuals for Sex"
   ]
  },
  {
   "cell_type": "markdown",
   "metadata": {},
   "source": [
    "## Table "
   ]
  },
  {
   "cell_type": "code",
   "execution_count": 151,
   "metadata": {},
   "outputs": [
    {
     "name": "stdout",
     "output_type": "stream",
     "text": [
      "Sex   Female  Male\n",
      "Year              \n",
      "2005    9698  9361\n",
      "2006    9327  8855\n",
      "2007    9454  8487\n",
      "2008    9233  8853\n",
      "2009    9170  8738\n",
      "2010    8985  8397\n",
      "2011    8715  8134\n",
      "2012    8527  7967\n",
      "2013    8389  8014\n",
      "2014    8058  8082\n",
      "2015    8216  7847\n",
      "2016    8020  8026\n",
      "2017    9010  8597\n",
      "2018    8757  8450\n",
      "2019    8142  8087\n",
      "2020    8462  8494\n",
      "2021    7979  7672\n",
      "2022    9037  8640\n"
     ]
    }
   ],
   "source": [
    "# Table for Regional cases per year per sex\n",
    "# Group by 'Year' and 'Sex' and sum 'Regionals'\n",
    "df_sex_year = df_cleaned.groupby([\"Year\", \"Sex\"])[\"Regional\"].sum().unstack()\n",
    "\n",
    "print(df_sex_year)"
   ]
  },
  {
   "cell_type": "markdown",
   "metadata": {},
   "source": [
    "## Bar Graph"
   ]
  },
  {
   "cell_type": "code",
   "execution_count": 152,
   "metadata": {},
   "outputs": [],
   "source": [
    "# creating a bar graph  for Regional cases per year per sex\n",
    "# Group by 'Year' and 'Sex' and sum Regional\n",
    "df_sex_year = df_cleaned.groupby([\"Year\", \"Sex\"])[\"Regional\"].sum().unstack()\n",
    "\n",
    "# Plot a bar graph\n",
    "df_sex_year.plot(kind='bar', figsize=(12, 6), stacked=False)\n",
    "\n",
    "# Add labels and title\n",
    "plt.xlabel(\"Year of Diagnosis\")\n",
    "plt.ylabel(\"Total Regional Cases\")\n",
    "plt.title(\"Total Regional Cancer Cases Per Year Per Sex\")\n",
    "\n",
    "# Formatting y-axis to show whole numbers (integers)\n",
    "plt.gca().yaxis.set_major_locator(MaxNLocator(integer=True))\n",
    "\n",
    "# Set x-ticks to show each year in the data\n",
    "plt.xticks(rotation=45)\n",
    "\n",
    "# Add a legend\n",
    "plt.legend(title=\"Sex\", fontsize=10, title_fontsize=12)\n",
    "\n",
    "# Add gridlines for better visibility\n",
    "plt.grid(True, axis='y', linestyle=\"--\", alpha=0.6)\n",
    "\n",
    "# Save \n",
    "plt.savefig(os.path.join(output_dir, \"Sex_per_year_Regional_diagnoses_BarGraph.png\"))\n",
    "plt.close()\n",
    "\n",
    "# Show the plot\n",
    "plt.show()\n"
   ]
  },
  {
   "cell_type": "markdown",
   "metadata": {},
   "source": [
    "## Pie chart"
   ]
  },
  {
   "cell_type": "code",
   "execution_count": 153,
   "metadata": {},
   "outputs": [],
   "source": [
    "# Group by 'Sex' and sum 'Regional' cases (across all years)\n",
    "df_sex_total = df_cleaned.groupby('Sex')['Regional'].sum()\n",
    "\n",
    "# Plotting the pie chart\n",
    "plt.figure(figsize=(8, 8))\n",
    "plt.pie(df_sex_total, labels=df_sex_total.index, autopct='%1.1f%%', startangle=90, colors=plt.get_cmap('tab20').colors)\n",
    "\n",
    "# Add title\n",
    "plt.title(\"Distribution of Regional Cancer Cases by Sex\")\n",
    "\n",
    "# Save \n",
    "plt.savefig(os.path.join(output_dir, \"Sex_per_year_Regional_diagnoses_Piechart.png\"))\n",
    "plt.close()\n",
    "\n",
    "# Show the plot\n",
    "plt.show()\n",
    "\n"
   ]
  },
  {
   "cell_type": "markdown",
   "metadata": {},
   "source": [
    "## Line graph "
   ]
  },
  {
   "cell_type": "code",
   "execution_count": 154,
   "metadata": {},
   "outputs": [],
   "source": [
    "# creating a trend line for Regional cases per year per sex\n",
    "# Group by 'Year' and 'Sex' and sum 'Total Documented Cases'\n",
    "df_sex_year = df_cleaned.groupby([\"Year\", \"Sex\"])[\"Regional\"].sum().unstack()\n",
    "\n",
    "# Plot a line graph\n",
    "df_sex_year.plot(kind='line', figsize=(12, 6), marker=\"o\")\n",
    "\n",
    "# Add labels and title\n",
    "plt.xlabel(\"Year of Diagnosis\")\n",
    "plt.ylabel(\"Total Regional Cases\")\n",
    "plt.title(\"Total Regional Cancer Cases Per Year Per Sex\")\n",
    "\n",
    "# Formatting y-axis to show whole numbers (integers)\n",
    "plt.gca().yaxis.set_major_locator(MaxNLocator(integer=True))\n",
    "\n",
    "# Set x-ticks to show each individual year\n",
    "plt.xticks(df_sex_year.index, rotation=45)\n",
    "\n",
    "# Add a legend\n",
    "plt.legend(title=\"Sex\", fontsize=10, title_fontsize=12)\n",
    "\n",
    "# Add gridlines for better visibility\n",
    "plt.grid(True, linestyle=\"--\", alpha=0.6)\n",
    "\n",
    "# Save \n",
    "plt.savefig(os.path.join(output_dir, \"Sexs_per_year_Regional_diagnoses_linegraph.png\"))\n",
    "plt.close()\n",
    "\n",
    "# Show the plot\n",
    "plt.show()\n",
    "\n"
   ]
  },
  {
   "cell_type": "markdown",
   "metadata": {},
   "source": [
    "## Trend line "
   ]
  },
  {
   "cell_type": "code",
   "execution_count": 155,
   "metadata": {},
   "outputs": [],
   "source": [
    "#For only males \n",
    "# Filter the data to include only males\n",
    "df_male = df_cleaned[df_cleaned[\"Sex\"] == \"Male\"]\n",
    "\n",
    "# Group by 'Year' and sum Regional for males only\n",
    "df_male_year = df_male.groupby(\"Year\")[\"Regional\"].sum()\n",
    "\n",
    "# Plot the original data for males\n",
    "plt.figure(figsize=(12, 6))\n",
    "plt.plot(df_male_year.index, df_male_year, marker=\"o\", label=\"Male\")\n",
    "\n",
    "# Calculate the trend line (linear regression) for males\n",
    "slope, intercept, r_value, p_value, std_err = linregress(df_male_year.index, df_male_year)\n",
    "\n",
    "# Create the trend line for males\n",
    "trend_line = slope * df_male_year.index + intercept\n",
    "\n",
    "# Plot the trend line for males\n",
    "plt.plot(df_male_year.index, trend_line, linestyle='--', label='Male Trend Line')\n",
    "\n",
    "# Add labels and title\n",
    "plt.xlabel(\"Year of Diagnosis\")\n",
    "plt.ylabel(\"Total Regional Cases\")\n",
    "plt.title(\"Total Regional Cancer Cases for Males Per Year with Trend Line\")\n",
    "\n",
    "# Formatting y-axis to show whole numbers (integers)\n",
    "plt.gca().yaxis.set_major_locator(MaxNLocator(integer=True))\n",
    "\n",
    "# Set x-ticks to show each individual year\n",
    "plt.xticks(df_male_year.index, rotation=45)\n",
    "\n",
    "# Add a legend\n",
    "plt.legend(title=\"Sex\", fontsize=10, title_fontsize=12)\n",
    "\n",
    "# Add gridlines for better visibility\n",
    "plt.grid(True, linestyle=\"--\", alpha=0.6)\n",
    "\n",
    "# Save \n",
    "plt.savefig(os.path.join(output_dir, \"Sex_male_per_year_Regional_diagnoses_trendline.png\"))\n",
    "plt.close()\n",
    "\n",
    "\n",
    "# Show the plot\n",
    "plt.show()\n"
   ]
  },
  {
   "cell_type": "code",
   "execution_count": 156,
   "metadata": {},
   "outputs": [],
   "source": [
    "# Female only\n",
    "# Filter the data to include only females\n",
    "df_female = df_cleaned[df_cleaned[\"Sex\"] == \"Female\"]\n",
    "\n",
    "# Group by 'Year' and sum Regional for females only\n",
    "df_female_year = df_female.groupby(\"Year\")[\"Regional\"].sum()\n",
    "\n",
    "# Plot the original data for females\n",
    "plt.figure(figsize=(12, 6))\n",
    "plt.plot(df_female_year.index, df_female_year, marker=\"o\", label=\"Female\")\n",
    "\n",
    "# Calculate the trend line (linear regression) for females\n",
    "slope, intercept, r_value, p_value, std_err = linregress(df_female_year.index, df_female_year)\n",
    "\n",
    "# Create the trend line for females\n",
    "trend_line = slope * df_female_year.index + intercept\n",
    "\n",
    "# Plot the trend line for females\n",
    "plt.plot(df_female_year.index, trend_line, linestyle='--', label='Female Trend Line')\n",
    "\n",
    "# Add labels and title\n",
    "plt.xlabel(\"Year of Diagnosis\")\n",
    "plt.ylabel(\"Total Regional Cases\")\n",
    "plt.title(\"Total Regional Cancer Cases for Females Per Year with Trend Line\")\n",
    "\n",
    "# Formatting y-axis to show whole numbers (integers)\n",
    "plt.gca().yaxis.set_major_locator(MaxNLocator(integer=True))\n",
    "\n",
    "# Set x-ticks to show each individual year\n",
    "plt.xticks(df_female_year.index, rotation=45)\n",
    "\n",
    "# Add a legend\n",
    "plt.legend(title=\"Sex\", fontsize=10, title_fontsize=12)\n",
    "\n",
    "# Add gridlines for better visibility\n",
    "plt.grid(True, linestyle=\"--\", alpha=0.6)\n",
    "\n",
    "# Save \n",
    "plt.savefig(os.path.join(output_dir, \"Sex_female_per_year_Regional_diagnoses_trendline.png\"))\n",
    "plt.close()\n",
    "\n",
    "# Show the plot\n",
    "plt.show()\n"
   ]
  },
  {
   "cell_type": "markdown",
   "metadata": {},
   "source": [
    "## All visuals for Age"
   ]
  },
  {
   "cell_type": "markdown",
   "metadata": {},
   "source": [
    "## Table"
   ]
  },
  {
   "cell_type": "code",
   "execution_count": 157,
   "metadata": {},
   "outputs": [
    {
     "name": "stdout",
     "output_type": "stream",
     "text": [
      "Age   01-04 years  05-09 years  10-14 years  15-19 years  20-24 years  \\\n",
      "Year                                                                    \n",
      "2005            0            0            0           12           26   \n",
      "2006            0            0            0           11           23   \n",
      "2007            0            0            4            7           33   \n",
      "2008            0            0            1            4           28   \n",
      "2009            0            0            2            5           21   \n",
      "2010            0            0            0            4           23   \n",
      "2011            0            0            4           12           32   \n",
      "2012            0            0            2           10           26   \n",
      "2013            0            0            2           13           30   \n",
      "2014            0            0            9            7           18   \n",
      "2015            0            2            2           20           27   \n",
      "2016            0            4            4           14           37   \n",
      "2017            0            4           10           14           30   \n",
      "2018            0            0            6           18           35   \n",
      "2019            0            3           34           50           63   \n",
      "2020            0            4           18           51           63   \n",
      "2021            0            0           20           37           64   \n",
      "2022            0            7           21           53           70   \n",
      "\n",
      "Age   25-29 years  30-34 years  35-39 years  40-44 years  45-49 years  \\\n",
      "Year                                                                    \n",
      "2005           53          117          248          498          783   \n",
      "2006           48          113          217          416          805   \n",
      "2007           54          149          207          437          733   \n",
      "2008           75          102          224          449          776   \n",
      "2009           47          120          258          395          756   \n",
      "2010           46          127          228          437          718   \n",
      "2011           61          152          219          383          830   \n",
      "2012           56          106          258          435          742   \n",
      "2013           54          110          216          400          802   \n",
      "2014           67          147          226          451          658   \n",
      "2015           85          159          245          481          730   \n",
      "2016           99          142          248          438          752   \n",
      "2017           95          165          263          478          835   \n",
      "2018           68          149          280          475          836   \n",
      "2019          103          185          305          466          759   \n",
      "2020          106          161          294          488          860   \n",
      "2021          106          214          300          507          795   \n",
      "2022          118          224          336          555          919   \n",
      "\n",
      "Age   50-54 years  55-59 years  60-64 years  65-69 years  70-74 years  \\\n",
      "Year                                                                    \n",
      "2005         1255         1552         1699         2247         2686   \n",
      "2006         1145         1510         1746         2147         2236   \n",
      "2007         1169         1619         1694         2103         2271   \n",
      "2008         1245         1675         1930         2168         2294   \n",
      "2009         1365         1584         1750         2077         2228   \n",
      "2010         1441         1413         1817         2013         2152   \n",
      "2011         1245         1488         1843         1943         2071   \n",
      "2012         1222         1417         1855         1883         2068   \n",
      "2013         1312         1456         1704         2065         2139   \n",
      "2014         1304         1527         1768         2144         1944   \n",
      "2015         1287         1542         1830         2046         1962   \n",
      "2016         1203         1489         1849         2139         1912   \n",
      "2017         1463         1553         1923         2405         2226   \n",
      "2018         1461         1590         1837         2396         2185   \n",
      "2019         1266         1532         1892         2061         2117   \n",
      "2020         1345         1585         1936         2113         2184   \n",
      "2021         1258         1394         1612         2007         2108   \n",
      "2022         1463         1462         2004         2227         2332   \n",
      "\n",
      "Age   75-79 years  80-84 years   85+  <1 year  unknown age  \n",
      "Year                                                        \n",
      "2005         2716         2750  2417        0            0  \n",
      "2006         2839         2626  2300        0            0  \n",
      "2007         2585         2574  2302        0            0  \n",
      "2008         2481         2320  2314        0            0  \n",
      "2009         2474         2401  2423        2            0  \n",
      "2010         2336         2221  2406        0            0  \n",
      "2011         2160         2130  2276        0            0  \n",
      "2012         2089         2063  2262        0            0  \n",
      "2013         1995         1945  2160        0            0  \n",
      "2014         1817         1909  2144        0            0  \n",
      "2015         1901         1665  2079        0            0  \n",
      "2016         1907         1797  2012        0            0  \n",
      "2017         2113         1811  2219        0            0  \n",
      "2018         1930         1884  2057        0            0  \n",
      "2019         1847         1623  1923        0            0  \n",
      "2020         1996         1781  1971        0            0  \n",
      "2021         1810         1573  1846        0            0  \n",
      "2022         2147         1743  1996        0            0  \n"
     ]
    }
   ],
   "source": [
    "# table for Regional cases by age per year\n",
    "# Group by 'Year' and 'Age', then sum the Regional Cases'\n",
    "df_age_year = df_cleaned.groupby([\"Year\", \"Age\"])[\"Regional\"].sum().unstack()\n",
    "\n",
    "# Display the resulting table\n",
    "print(df_age_year)\n"
   ]
  },
  {
   "cell_type": "markdown",
   "metadata": {},
   "source": [
    "## Bar Graph"
   ]
  },
  {
   "cell_type": "code",
   "execution_count": 158,
   "metadata": {},
   "outputs": [
    {
     "data": {
      "text/plain": [
       "<Figure size 640x480 with 0 Axes>"
      ]
     },
     "metadata": {},
     "output_type": "display_data"
    }
   ],
   "source": [
    "#  Bar graph of Regionald cases of cancer per year per age group for the most recent five years \n",
    "\n",
    "# Filter the index of df_age_year to include only years between 2018 and 2022\n",
    "df_age_year_filtered = df_age_year[df_age_year.index.get_level_values('Year').isin([2018, 2019, 2020, 2021, 2022])]\n",
    "\n",
    "# Plotting the grouped bar chart (side-by-side bars for each age group)\n",
    "ax = df_age_year_filtered.plot(kind='bar', figsize=(12, 6), width=0.8, colormap='tab20', edgecolor='none')\n",
    "\n",
    "# Add labels and title\n",
    "plt.xlabel(\"Year of Diagnosis\")\n",
    "plt.ylabel(\"Total Documented Cases\")\n",
    "plt.title(\"Cancer Diagnoses by Age Group (2018-2022)\")\n",
    "\n",
    "# Format the y-axis to show whole numbers\n",
    "plt.gca().yaxis.set_major_locator(plt.MaxNLocator(integer=True))\n",
    "\n",
    "# Rotate x-axis labels for better readability\n",
    "plt.xticks(rotation=45)\n",
    "\n",
    "# Add gridlines for better visibility\n",
    "plt.grid(True, axis='y', linestyle=\"--\", alpha=0.6)\n",
    "\n",
    "\n",
    "# Save \n",
    "plt.tight_layout()\n",
    "plt.savefig(os.path.join(output_dir, \"Age_Per_Year_Regional_diagnoses_5yr_BarGraph.png\"))\n",
    "plt.close()\n",
    "\n",
    "# Show the plot\n",
    "plt.tight_layout()\n",
    "plt.show()\n",
    "\n",
    "\n"
   ]
  },
  {
   "cell_type": "code",
   "execution_count": 159,
   "metadata": {},
   "outputs": [
    {
     "data": {
      "text/plain": [
       "<Figure size 640x480 with 0 Axes>"
      ]
     },
     "metadata": {},
     "output_type": "display_data"
    }
   ],
   "source": [
    "# Bar graph Regional cases per age group \n",
    "# Group by 'Age' and sum 'Total Documented Cases'\n",
    "df_age_cases = df_cleaned.groupby('Age')['Regional'].sum()\n",
    "\n",
    "# Plotting the bar chart with Regional cases against age\n",
    "ax = df_age_cases.plot(kind='bar', figsize=(12, 6), width=0.8, colormap='tab20', edgecolor='none')\n",
    "\n",
    "# Add labels and title\n",
    "plt.xlabel(\"Age\")\n",
    "plt.ylabel(\"Total Regional Cases\")\n",
    "plt.title(\"Cancer Regional by Age\")\n",
    "\n",
    "# Format the y-axis to show whole numbers\n",
    "plt.gca().yaxis.set_major_locator(plt.MaxNLocator(integer=True))\n",
    "\n",
    "# Rotate x-axis labels for better readability \n",
    "plt.xticks(rotation=45)\n",
    "\n",
    "# Add gridlines for better visibility\n",
    "plt.grid(True, axis='y', linestyle=\"--\", alpha=0.6)\n",
    "\n",
    "\n",
    "# Save \n",
    "plt.tight_layout()\n",
    "plt.savefig(os.path.join(output_dir, \"Age_by_Regional_diagnoses_BarGraph.png\"))\n",
    "plt.close()\n",
    "\n",
    "# Show the plot\n",
    "plt.tight_layout()\n",
    "plt.show()\n",
    "\n"
   ]
  },
  {
   "cell_type": "markdown",
   "metadata": {},
   "source": [
    "## Line Graph"
   ]
  },
  {
   "cell_type": "code",
   "execution_count": 160,
   "metadata": {},
   "outputs": [
    {
     "data": {
      "text/plain": [
       "<Figure size 640x480 with 0 Axes>"
      ]
     },
     "metadata": {},
     "output_type": "display_data"
    }
   ],
   "source": [
    "\n",
    "# Plotting the line graph with Regional cases against age\n",
    "ax = df_age_cases.plot(kind='line', figsize=(12, 6), marker='o', colormap='tab20')\n",
    "\n",
    "# Add labels and title\n",
    "plt.xlabel(\"Age\")\n",
    "plt.ylabel(\"Total Documented Cases\")\n",
    "plt.title(\"Cancer Diagnoses by Age\")\n",
    "\n",
    "# Format the y-axis to show whole numbers\n",
    "plt.gca().yaxis.set_major_locator(plt.MaxNLocator(integer=True))\n",
    "\n",
    "# Ensure that each unique age value is shown on the x-axis\n",
    "plt.xticks(ticks=range(len(df_age_cases.index)), labels=df_age_cases.index, rotation=45)\n",
    "\n",
    "# Add gridlines for better visibility\n",
    "plt.grid(True, axis='y', linestyle=\"--\", alpha=0.6)\n",
    "\n",
    "# Save \n",
    "plt.tight_layout()\n",
    "plt.savefig(os.path.join(output_dir, \"Age_by_Regional_diagnoses_lineGraph.png\"))\n",
    "plt.close()\n",
    "\n",
    "# Show the plot\n",
    "plt.tight_layout()\n",
    "plt.show()"
   ]
  },
  {
   "cell_type": "code",
   "execution_count": 161,
   "metadata": {},
   "outputs": [
    {
     "data": {
      "text/plain": [
       "<Figure size 640x480 with 0 Axes>"
      ]
     },
     "metadata": {},
     "output_type": "display_data"
    }
   ],
   "source": [
    "# line graph for ages 50-85+ Regional cases by year\n",
    "# Filter the DataFrame for age groups between 50 and 85+\n",
    "\n",
    "# Exclude the years 2000 to 2004\n",
    "df_cleaned = df_cleaned[(df_cleaned[\"Year\"] < 2000) | (df_cleaned[\"Year\"] > 2004)]\n",
    "\n",
    "df_filtered = df_cleaned[df_cleaned['Age'].isin(['50-54 years', '55-59 years', '60-64 years', '65-69 years', '70-74 years', '75-79 years', '80-84 years', '85+ years'])]\n",
    "\n",
    "# Group the filtered data by 'Year' and 'Age', then sum the 'Regional' cases\n",
    "df_age_year = df_filtered.groupby(['Year', 'Age'])['Regional'].sum().unstack().fillna(0)\n",
    "\n",
    "# Plotting the line graph\n",
    "ax = df_age_year.plot(kind='line', figsize=(12, 6), marker='o', colormap='tab20')\n",
    "\n",
    "# Add labels and title\n",
    "plt.xlabel(\"Year of Diagnosis\")\n",
    "plt.ylabel(\"Total Regional Cases\")\n",
    "plt.title(\"Cancer Diagnoses by Age Group per Year\")\n",
    "\n",
    "# Format the y-axis to show whole numbers\n",
    "plt.gca().yaxis.set_major_locator(plt.MaxNLocator(integer=True))\n",
    "\n",
    "# Rotate x-axis labels for better readability\n",
    "plt.xticks(rotation=45)\n",
    "\n",
    "# Add gridlines for better visibility\n",
    "plt.grid(True, axis='y', linestyle=\"--\", alpha=0.6)\n",
    "\n",
    "\n",
    "# Save \n",
    "plt.tight_layout()\n",
    "plt.savefig(os.path.join(output_dir, \"Age_Regional_diagnoses_by_7age_group_per_year_linegraph.png\"))\n",
    "plt.close()\n",
    "\n",
    "\n",
    "# Show the plot\n",
    "plt.tight_layout()\n",
    "plt.show()\n"
   ]
  },
  {
   "cell_type": "markdown",
   "metadata": {},
   "source": [
    "## Pie chart "
   ]
  },
  {
   "cell_type": "code",
   "execution_count": 162,
   "metadata": {},
   "outputs": [],
   "source": [
    "# pie chart for ages 50-85+ Regional cases by year\n",
    "# Filter the DataFrame for age groups between 50 and 85+\n",
    "df_filtered = df_cleaned[df_cleaned['Age'].isin(['50-54 years', '55-59 years', '60-64 years', '65-69 years', '70-74 years', '75-79 years', '80-84 years', '85+ years'])]\n",
    "\n",
    "# Group the filtered data by 'Age' and sum the 'Regional' cases (across all years)\n",
    "df_age_total = df_filtered.groupby('Age')['Regional'].sum()\n",
    "\n",
    "# Plotting the pie chart\n",
    "plt.figure(figsize=(8, 8))\n",
    "plt.pie(df_age_total, labels=df_age_total.index, autopct='%1.1f%%', startangle=90, colors=plt.get_cmap('tab20').colors)\n",
    "\n",
    "# Add title\n",
    "plt.title(\"Distribution of Regional Cancer Diagnoses by Age Group\")\n",
    "\n",
    "# Save \n",
    "plt.savefig(os.path.join(output_dir, \"Age_Regional_diagnoses_by_7age_group_Piechart.png\"))\n",
    "plt.close()\n",
    "\n",
    "# Show the plot\n",
    "plt.show()"
   ]
  },
  {
   "cell_type": "markdown",
   "metadata": {},
   "source": [
    "# Haby Visuals "
   ]
  },
  {
   "cell_type": "code",
   "execution_count": 163,
   "metadata": {},
   "outputs": [
    {
     "data": {
      "text/plain": [
       "(Localized    (Male, 65-69 years)\n",
       " Regional           (Female, 85+)\n",
       " Distant      (Male, 60-64 years)\n",
       " dtype: object,\n",
       " Localized    47928\n",
       " Regional     50508\n",
       " Distant      26024\n",
       " dtype: int64)"
      ]
     },
     "execution_count": 163,
     "metadata": {},
     "output_type": "execute_result"
    }
   ],
   "source": [
    "# Filter out \"Male/Female\" category to focus on separate Male and Female data\n",
    "df_filtered = df[df[\"Sex\"].isin([\"Male\", \"Female\"])]\n",
    "# Aggregate cancer cases by sex and age for each stage\n",
    "cancer_exposure = df_filtered.groupby([\"Sex\", \"Age\"])[[\"Localized\", \"Regional\", \"Distant\"]].sum()\n",
    "# Identify the age and sex group with the highest exposure for each stage\n",
    "most_exposed = cancer_exposure.idxmax()\n",
    "most_exposed_values = cancer_exposure.max()\n",
    "most_exposed, most_exposed_values"
   ]
  },
  {
   "cell_type": "code",
   "execution_count": 164,
   "metadata": {},
   "outputs": [],
   "source": [
    "# Save the trend line plot for total cases by age\n",
    "plt.tight_layout()\n",
    "plt.savefig(os.path.join(output_dir, \"Haby age_line_graph.png\"))\n",
    "plt.close()"
   ]
  },
  {
   "cell_type": "code",
   "execution_count": 165,
   "metadata": {},
   "outputs": [
    {
     "data": {
      "text/plain": [
       "<Figure size 640x480 with 0 Axes>"
      ]
     },
     "metadata": {},
     "output_type": "display_data"
    }
   ],
   "source": [
    "\n",
    "# Aggregate cancer cases by sex and age for each stage\n",
    "cancer_exposure = df_filtered.groupby([\"Sex\", \"Age\"])[[\"Localized\", \"Regional\", \"Distant\"]].sum()\n",
    "# Identify the age and sex group with the highest exposure for each stage)\n",
    "# Reset index for easier plotting\n",
    "cancer_exposure_reset = cancer_exposure.reset_index()\n",
    "# Set up the figure\n",
    "fig, axes = plt.subplots(3, 1, figsize=(20, 25), sharex=True)\n",
    "# Titles for stages\n",
    "stages = [\"Localized\", \"Regional\", \"Distant\"]\n",
    "colors = [\"blue\", \"orange\", \"red\"]\n",
    "# Plot data for each stage\n",
    "for i, stage in enumerate(stages):\n",
    "    sns.lineplot(\n",
    "        data=cancer_exposure_reset, x=\"Age\", y=stage, hue=\"Sex\", ax=axes[i], palette=[\"blue\", \"red\"]\n",
    "    )\n",
    "    axes[i].set_title(f\"Age vs {stage} Cancer Cases by Sex\", fontsize=14)\n",
    "    axes[i].set_ylabel(\"Number of Cases\")\n",
    "    axes[i].legend(title=\"Sex\")\n",
    "# Set common labels\n",
    "axes[-1].set_xlabel(\"Age\")\n",
    "\n",
    "# Save the trend line plot for total cases by age\n",
    "plt.tight_layout()\n",
    "plt.savefig(os.path.join(output_dir, \"Haby:age_line_graphs.png\"))\n",
    "plt.close()\n",
    "\n",
    "# Show plot\n",
    "plt.tight_layout()\n",
    "plt.show()"
   ]
  },
  {
   "cell_type": "code",
   "execution_count": 166,
   "metadata": {},
   "outputs": [
    {
     "name": "stdout",
     "output_type": "stream",
     "text": [
      "All visuals for cancer diagnoses by age have been saved to the 'output_data' folder.\n"
     ]
    }
   ],
   "source": [
    "print(\"All visuals for cancer diagnoses by age have been saved to the 'output_data' folder.\")"
   ]
  }
 ],
 "metadata": {
  "kernelspec": {
   "display_name": "dev2.2",
   "language": "python",
   "name": "python3"
  },
  "language_info": {
   "codemirror_mode": {
    "name": "ipython",
    "version": 3
   },
   "file_extension": ".py",
   "mimetype": "text/x-python",
   "name": "python",
   "nbconvert_exporter": "python",
   "pygments_lexer": "ipython3",
   "version": "3.10.16"
  }
 },
 "nbformat": 4,
 "nbformat_minor": 2
}

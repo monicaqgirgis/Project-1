{
 "cells": [
  {
   "cell_type": "markdown",
   "metadata": {},
   "source": [
    "# Project 1                                       \n",
    "### Documented Colon Cancer Diagnoses (excluding rectum) in the the United States 2005-2022\n",
    "---\n",
    "#### Final Analysis \n",
    "\n",
    "\n",
    " "
   ]
  },
  {
   "cell_type": "code",
   "execution_count": 393,
   "metadata": {},
   "outputs": [],
   "source": [
    "# Dependencies and Setup\n",
    "import matplotlib.pyplot as plt\n",
    "import pandas as pd\n",
    "import scipy.stats as st\n",
    "from scipy.stats import linregress\n",
    "import numpy as np\n",
    "from matplotlib.ticker import MaxNLocator\n",
    "import os\n"
   ]
  },
  {
   "cell_type": "code",
   "execution_count": 394,
   "metadata": {},
   "outputs": [
    {
     "data": {
      "text/html": [
       "<div>\n",
       "<style scoped>\n",
       "    .dataframe tbody tr th:only-of-type {\n",
       "        vertical-align: middle;\n",
       "    }\n",
       "\n",
       "    .dataframe tbody tr th {\n",
       "        vertical-align: top;\n",
       "    }\n",
       "\n",
       "    .dataframe thead th {\n",
       "        text-align: right;\n",
       "    }\n",
       "</style>\n",
       "<table border=\"1\" class=\"dataframe\">\n",
       "  <thead>\n",
       "    <tr style=\"text-align: right;\">\n",
       "      <th></th>\n",
       "      <th>Race</th>\n",
       "      <th>Sex</th>\n",
       "      <th>Year</th>\n",
       "      <th>Age</th>\n",
       "      <th>In the natural position of diagnosis</th>\n",
       "      <th>Localized</th>\n",
       "      <th>Regional</th>\n",
       "      <th>Distant</th>\n",
       "      <th>Unknown Stage</th>\n",
       "      <th>Total Documented Cases</th>\n",
       "      <th>Blanks/ Meets NO requirements as whole</th>\n",
       "    </tr>\n",
       "  </thead>\n",
       "  <tbody>\n",
       "    <tr>\n",
       "      <th>0</th>\n",
       "      <td>White</td>\n",
       "      <td>Male/Female</td>\n",
       "      <td>2000</td>\n",
       "      <td>&lt;1 year</td>\n",
       "      <td>1</td>\n",
       "      <td>3</td>\n",
       "      <td>1</td>\n",
       "      <td>0</td>\n",
       "      <td>0</td>\n",
       "      <td>5</td>\n",
       "      <td>0</td>\n",
       "    </tr>\n",
       "    <tr>\n",
       "      <th>1</th>\n",
       "      <td>White</td>\n",
       "      <td>Male/Female</td>\n",
       "      <td>2000</td>\n",
       "      <td>1-4 years</td>\n",
       "      <td>0</td>\n",
       "      <td>2</td>\n",
       "      <td>0</td>\n",
       "      <td>0</td>\n",
       "      <td>0</td>\n",
       "      <td>2</td>\n",
       "      <td>0</td>\n",
       "    </tr>\n",
       "    <tr>\n",
       "      <th>2</th>\n",
       "      <td>White</td>\n",
       "      <td>Male/Female</td>\n",
       "      <td>2000</td>\n",
       "      <td>5-9 years</td>\n",
       "      <td>0</td>\n",
       "      <td>43</td>\n",
       "      <td>13</td>\n",
       "      <td>0</td>\n",
       "      <td>0</td>\n",
       "      <td>56</td>\n",
       "      <td>1</td>\n",
       "    </tr>\n",
       "    <tr>\n",
       "      <th>3</th>\n",
       "      <td>White</td>\n",
       "      <td>Male/Female</td>\n",
       "      <td>2000</td>\n",
       "      <td>10-14 years</td>\n",
       "      <td>0</td>\n",
       "      <td>247</td>\n",
       "      <td>72</td>\n",
       "      <td>14</td>\n",
       "      <td>4</td>\n",
       "      <td>337</td>\n",
       "      <td>14</td>\n",
       "    </tr>\n",
       "    <tr>\n",
       "      <th>4</th>\n",
       "      <td>White</td>\n",
       "      <td>Male/Female</td>\n",
       "      <td>2000</td>\n",
       "      <td>15-19 years</td>\n",
       "      <td>8</td>\n",
       "      <td>484</td>\n",
       "      <td>179</td>\n",
       "      <td>45</td>\n",
       "      <td>21</td>\n",
       "      <td>737</td>\n",
       "      <td>42</td>\n",
       "    </tr>\n",
       "  </tbody>\n",
       "</table>\n",
       "</div>"
      ],
      "text/plain": [
       "    Race          Sex  Year          Age  \\\n",
       "0  White  Male/Female  2000      <1 year   \n",
       "1  White  Male/Female  2000    1-4 years   \n",
       "2  White  Male/Female  2000    5-9 years   \n",
       "3  White  Male/Female  2000  10-14 years   \n",
       "4  White  Male/Female  2000  15-19 years   \n",
       "\n",
       "   In the natural position of diagnosis  Localized  Regional  Distant  \\\n",
       "0                                     1          3         1        0   \n",
       "1                                     0          2         0        0   \n",
       "2                                     0         43        13        0   \n",
       "3                                     0        247        72       14   \n",
       "4                                     8        484       179       45   \n",
       "\n",
       "   Unknown Stage  Total Documented Cases  \\\n",
       "0              0                       5   \n",
       "1              0                       2   \n",
       "2              0                      56   \n",
       "3              4                     337   \n",
       "4             21                     737   \n",
       "\n",
       "   Blanks/ Meets NO requirements as whole  \n",
       "0                                       0  \n",
       "1                                       0  \n",
       "2                                       1  \n",
       "3                                      14  \n",
       "4                                      42  "
      ]
     },
     "execution_count": 394,
     "metadata": {},
     "output_type": "execute_result"
    }
   ],
   "source": [
    "# Load the dataset\n",
    "file_path = \"/Users/alyssaberridge/Desktop/Projects/Project-1/Resources/Modified_Cleaned_Cancer_Project.csv\"\n",
    "df = pd.read_csv(file_path)\n",
    "# Display the first few rows\n",
    "df.head()"
   ]
  },
  {
   "cell_type": "code",
   "execution_count": 395,
   "metadata": {},
   "outputs": [
    {
     "data": {
      "text/plain": [
       "Index(['Race', 'Sex', 'Year', 'Age', 'In the natural position of diagnosis',\n",
       "       'Localized', 'Regional', 'Distant', 'Unknown Stage',\n",
       "       'Total Documented Cases', 'Blanks/ Meets NO requirements as whole'],\n",
       "      dtype='object')"
      ]
     },
     "execution_count": 395,
     "metadata": {},
     "output_type": "execute_result"
    }
   ],
   "source": [
    "# available columns\n",
    "df.columns"
   ]
  },
  {
   "cell_type": "code",
   "execution_count": 396,
   "metadata": {},
   "outputs": [
    {
     "name": "stdout",
     "output_type": "stream",
     "text": [
      "    Year  Total Documented Cases\n",
      "0   2000                 1811376\n",
      "1   2001                       0\n",
      "2   2002                       0\n",
      "3   2003                       0\n",
      "4   2004                       0\n",
      "5   2005                  108262\n",
      "6   2006                  106822\n",
      "7   2007                  105884\n",
      "8   2008                  105334\n",
      "9   2009                  105884\n",
      "10  2010                  102964\n",
      "11  2011                   99544\n",
      "12  2012                   97696\n",
      "13  2013                   98230\n",
      "14  2014                   97348\n",
      "15  2015                   99574\n",
      "16  2016                   99808\n",
      "17  2017                   99840\n",
      "18  2018                   98076\n",
      "19  2019                   98700\n",
      "20  2020                  100276\n",
      "21  2021                   89420\n",
      "22  2022                   97714\n"
     ]
    }
   ],
   "source": [
    "# Unfiltered table results \n",
    "# Group by 'Year' and sum the 'Total Documented Cases' column\n",
    "cases_per_year = df.groupby('Year')['Total Documented Cases'].sum().reset_index()\n",
    "\n",
    "# Display the resulting table\n",
    "print(cases_per_year)\n"
   ]
  },
  {
   "cell_type": "markdown",
   "metadata": {},
   "source": [
    "# All visuals for Total Documented Cases per year"
   ]
  },
  {
   "cell_type": "markdown",
   "metadata": {},
   "source": [
    "## Table "
   ]
  },
  {
   "cell_type": "code",
   "execution_count": 397,
   "metadata": {},
   "outputs": [],
   "source": [
    "# Create output directory \n",
    "output_dir = \"/Users/alyssaberridge/Desktop/Projects/Project-1/output_data\"\n",
    "if not os.path.exists(output_dir):\n",
    "    os.makedirs(output_dir)"
   ]
  },
  {
   "cell_type": "code",
   "execution_count": 398,
   "metadata": {},
   "outputs": [
    {
     "data": {
      "text/plain": [
       "Year\n",
       "2000    905688\n",
       "2001         0\n",
       "2002         0\n",
       "2003         0\n",
       "2004         0\n",
       "2005     54131\n",
       "2006     53411\n",
       "2007     52942\n",
       "2008     52667\n",
       "2009     52942\n",
       "2010     51482\n",
       "2011     49772\n",
       "2012     48848\n",
       "2013     49115\n",
       "2014     48674\n",
       "2015     49787\n",
       "2016     49904\n",
       "2017     49920\n",
       "2018     49038\n",
       "2019     49350\n",
       "2020     50138\n",
       "2021     44710\n",
       "2022     48857\n",
       "Name: Total Documented Cases, dtype: int64"
      ]
     },
     "execution_count": 398,
     "metadata": {},
     "output_type": "execute_result"
    }
   ],
   "source": [
    "# Cleaned total documented cases per year\n",
    "# Clean up the 'Sex' column by removing 'Male/Female'  available columns\n",
    "df_cleaned = df[df[\"Sex\"] != \"Male/Female\"] \n",
    "\n",
    "#The the Sum of cases documented per year \n",
    "df_cleaned.groupby(\"Year\")[\"Total Documented Cases\"].sum()\n"
   ]
  },
  {
   "cell_type": "markdown",
   "metadata": {},
   "source": [
    "## Bar Graph "
   ]
  },
  {
   "cell_type": "code",
   "execution_count": 399,
   "metadata": {},
   "outputs": [],
   "source": [
    "# Creating a bar graph for total cases overtime per year with whole numbers starting from 2005\n",
    "# Clean up the 'Sex' column by removing 'Male/Female'\n",
    "df_cleaned = df[df[\"Sex\"] != \"Male/Female\"]  \n",
    "\n",
    "# Exclude the years 2000 to 2004\n",
    "df_cleaned = df_cleaned[(df_cleaned[\"Year\"] < 2000) | (df_cleaned[\"Year\"] > 2004)]\n",
    "\n",
    "# Group by 'Year' and sum 'Total Documented Cases' (now using cleaned data)\n",
    "df_cleaned.groupby(\"Year\")[\"Total Documented Cases\"].sum().plot(kind=\"bar\", figsize=(12, 6), width=0.5)\n",
    "\n",
    "# Add labels and title\n",
    "plt.xlabel(\"Year of Diagnosis\")\n",
    "plt.ylabel(\"Total Documented Cases\")\n",
    "plt.title(\"Cancer Diagnoses Per Year\")\n",
    "\n",
    "# Format the y-axis to show whole numbers (integers)\n",
    "plt.gca().yaxis.set_major_locator(MaxNLocator(integer=True))\n",
    "\n",
    "# Only gridlines for y-axis\n",
    "plt.grid(True, axis='y', linestyle=\"--\", alpha=0.6)\n",
    "\n",
    "# Save the bar graph\n",
    "plt.savefig(os.path.join(output_dir, \"cancer_diagnoses_per_year_bar_graph.png\"))\n",
    "plt.close()\n",
    "\n",
    "# Show the plot\n",
    "plt.show()"
   ]
  },
  {
   "cell_type": "markdown",
   "metadata": {},
   "source": [
    "## Line graph "
   ]
  },
  {
   "cell_type": "code",
   "execution_count": 400,
   "metadata": {},
   "outputs": [],
   "source": [
    "#Here's my updated line of code to create a line graph of total cases overtime per year with whole numbers starting from 2005\n",
    "#single year brakets \n",
    "# Group by 'Year' and sum 'Total Documented Cases' (now using cleaned data)\n",
    "df_cleaned.groupby(\"Year\")[\"Total Documented Cases\"].sum().plot(kind=\"line\", marker=\"o\", figsize=(10, 5))\n",
    "\n",
    "# Add labels and title\n",
    "plt.xlabel(\"Year of Diagnosis\")\n",
    "plt.ylabel(\"Total Documented Cases\")\n",
    "plt.title(\"Trend of Cancer Diagnoses Over Time\")\n",
    "\n",
    "# Format the y-axis to show whole numbers (integers)\n",
    "plt.gca().yaxis.set_major_locator(MaxNLocator(integer=True))\n",
    "\n",
    "# Set x-ticks to show each year in the data\n",
    "plt.xticks(ticks=df_cleaned[\"Year\"].unique(), rotation=45)  # Ensures each year is a tick, rotated for better readability\n",
    "plt.grid(True)\n",
    "\n",
    "# Save the line graph\n",
    "plt.savefig(os.path.join(output_dir, \"cancer_diagnoses_over_time_line_graph.png\"))\n",
    "plt.close()\n",
    "plt.show()"
   ]
  },
  {
   "cell_type": "markdown",
   "metadata": {},
   "source": [
    "## Trend line "
   ]
  },
  {
   "cell_type": "code",
   "execution_count": 401,
   "metadata": {},
   "outputs": [],
   "source": [
    "#creating a Trendline of total cases overtime per year with whole numbers starting from 2005\n",
    "# Group by 'Year' and sum 'Total Documented Cases'\n",
    "df_yearly_cases = df_cleaned.groupby(\"Year\")[\"Total Documented Cases\"].sum()\n",
    "\n",
    "# Plot the total documented cases as a line graph with markers\n",
    "plt.figure(figsize=(10, 5))\n",
    "plt.plot(df_yearly_cases.index, df_yearly_cases.values, marker=\"o\", label=\"Total Documented Cases\")\n",
    "\n",
    "# Calculate the trend line (linear regression)\n",
    "slope, intercept, r_value, p_value, std_err = linregress(df_yearly_cases.index, df_yearly_cases.values)\n",
    "\n",
    "# Create the trend line\n",
    "trend_line = slope * df_yearly_cases.index + intercept\n",
    "\n",
    "# Plot the trend line\n",
    "plt.plot(df_yearly_cases.index, trend_line, linestyle='--', color='red', label='Trend Line')\n",
    "\n",
    "# Add labels and title\n",
    "plt.xlabel(\"Year of Diagnosis\")\n",
    "plt.ylabel(\"Total Documented Cases\")\n",
    "plt.title(\"Trend of Cancer Diagnoses Over Time with Trend Line\")\n",
    "\n",
    "# Formatting y-axis to show whole numbers (integers)\n",
    "plt.gca().yaxis.set_major_locator(MaxNLocator(integer=True))\n",
    "\n",
    "# Set x-ticks to show each year in the data\n",
    "plt.xticks(ticks=df_cleaned[\"Year\"].unique(), rotation=45)  # Ensures each year is a tick, rotated for better readability\n",
    "\n",
    "# Add a legend\n",
    "plt.legend(title=\"Legend\", fontsize=10, title_fontsize=12)\n",
    "\n",
    "# Add gridlines for better visibility\n",
    "plt.grid(True)\n",
    "\n",
    "# Save the trend line graph\n",
    "plt.savefig(os.path.join(output_dir, \"trend_of_cancer_diagnoses_with_trend_line.png\"))\n",
    "plt.close()\n",
    "\n",
    "# Show the plot\n",
    "plt.show()\n",
    "\n"
   ]
  },
  {
   "cell_type": "markdown",
   "metadata": {},
   "source": [
    "# All Visuals for each stage of diagnosis per year"
   ]
  },
  {
   "cell_type": "markdown",
   "metadata": {},
   "source": [
    "## Table "
   ]
  },
  {
   "cell_type": "code",
   "execution_count": 402,
   "metadata": {},
   "outputs": [
    {
     "name": "stdout",
     "output_type": "stream",
     "text": [
      "      In the natural position of diagnosis  Localized  Regional  Distant  \\\n",
      "Year                                                                       \n",
      "2005                                  3131      19102     19059    10085   \n",
      "2006                                  3025      19472     18182     9897   \n",
      "2007                                  2848      19445     17941     9901   \n",
      "2008                                  2711      19374     18086     9765   \n",
      "2009                                  2473      19854     17908    10079   \n",
      "2010                                  2413      19158     17382     9906   \n",
      "2011                                  2096      18135     16849    10227   \n",
      "2012                                  1744      18052     16494    10172   \n",
      "2013                                  1950      18115     16403    10162   \n",
      "2014                                  2044      17960     16140     9968   \n",
      "2015                                  1627      18727     16063    10645   \n",
      "2016                                  1549      18758     16046    10563   \n",
      "2017                                  1735      17247     17607    10447   \n",
      "2018                                  1628      16741     17207    10516   \n",
      "2019                                  1055      17624     16229    11126   \n",
      "2020                                  1042      17654     16956    11351   \n",
      "2021                                   692      14664     15651    10671   \n",
      "2022                                   635      16609     17677    11130   \n",
      "\n",
      "      Unknown Stage  \n",
      "Year                 \n",
      "2005           2754  \n",
      "2006           2835  \n",
      "2007           2807  \n",
      "2008           2731  \n",
      "2009           2628  \n",
      "2010           2623  \n",
      "2011           2465  \n",
      "2012           2386  \n",
      "2013           2485  \n",
      "2014           2562  \n",
      "2015           2725  \n",
      "2016           2988  \n",
      "2017           2884  \n",
      "2018           2946  \n",
      "2019           3316  \n",
      "2020           3135  \n",
      "2021           3032  \n",
      "2022           2806  \n"
     ]
    }
   ],
   "source": [
    "# Cleaned Table for each stage diagnosed per year starting at 20005\n",
    "# Group by 'Year' and sum the different stages\n",
    "stages_columns = ['In the natural position of diagnosis', 'Localized', 'Regional', 'Distant', 'Unknown Stage']\n",
    "\n",
    "# Group by Year and sum the stages\n",
    "df_stages = df_cleaned.groupby(\"Year\")[stages_columns].sum()\n",
    "\n",
    "\n",
    "print(df_stages)"
   ]
  },
  {
   "cell_type": "markdown",
   "metadata": {},
   "source": [
    "## Bar graph "
   ]
  },
  {
   "cell_type": "code",
   "execution_count": 403,
   "metadata": {},
   "outputs": [],
   "source": [
    "\n",
    "#Creating a Stacked bar graph for each stage diagnosed per year starting at 2005\n",
    "# Group by 'Year' and sum the different stages\n",
    "stages_columns = ['In the natural position of diagnosis', 'Localized', 'Regional', 'Distant', 'Unknown Stage']\n",
    "\n",
    "# Group by Year and sum the stages\n",
    "df_stages = df_cleaned.groupby(\"Year\")[stages_columns].sum()\n",
    "\n",
    "# Plot the stacked bar chart\n",
    "ax = df_stages.plot(kind='bar', stacked=True, figsize=(12, 6))\n",
    "\n",
    "# Add labels and title\n",
    "plt.xlabel(\"Year of Diagnosis\")\n",
    "plt.ylabel(\"Total Cases by Stage\")\n",
    "plt.title(\"Cancer Diagnos at various stages per\")\n",
    "\n",
    "# Formatting y-axis to show whole numbers (integers)\n",
    "plt.gca().yaxis.set_major_locator(MaxNLocator(integer=True))\n",
    "\n",
    "# Rotate x-axis labels for better readability\n",
    "plt.xticks(rotation=45)\n",
    "\n",
    "# Add gridlines\n",
    "plt.grid(True, axis='y', linestyle=\"--\", alpha=0.6)\n",
    "\n",
    "# Save the stacked bar graph\n",
    "plt.savefig(os.path.join(output_dir, \"stages_per_year_stacked_bar_graph.png\"))\n",
    "plt.close()\n",
    "\n",
    "# Show the plot\n",
    "plt.show()"
   ]
  },
  {
   "cell_type": "code",
   "execution_count": 404,
   "metadata": {},
   "outputs": [
    {
     "data": {
      "image/png": "[encoded data removed]",
      "text/plain": [
       "<Figure size 1200x600 with 1 Axes>"
      ]
     },
     "metadata": {},
     "output_type": "display_data"
    }
   ],
   "source": [
    "#Creating a bar graph for each stage diagnosed per year NOT stacked starting from 2005\n",
    "# Plot the grouped bar chart (side-by-side bars for each stage)\n",
    "ax = df_stages.plot(kind='bar', figsize=(12, 6), width=0.8, colormap='tab20', edgecolor='none')\n",
    "\n",
    "# Add labels and title\n",
    "ax.set_xlabel(\"Year of Diagnosis\", fontsize=14)\n",
    "ax.set_ylabel(\"Total Cases by Stage\", fontsize=14)\n",
    "ax.set_title(\"Cancer Diagnoses at Various Stages Per Year\", fontsize=16)\n",
    "\n",
    "# Format the y-axis to show whole numbers\n",
    "ax.yaxis.set_major_locator(MaxNLocator(integer=True))\n",
    "\n",
    "# Rotate x-axis labels for better readability\n",
    "plt.xticks(rotation=45, ha='right', fontsize=12)\n",
    "\n",
    "# Add gridlines for better visibility\n",
    "plt.grid(True, axis='y', linestyle=\"--\", alpha=0.6)\n",
    "\n",
    "# Improve the legend \n",
    "ax.legend(title=\"Cancer Stages\", title_fontsize='13', bbox_to_anchor=(1.05, 1), loc='upper left', fontsize=12)\n",
    "\n",
    "# Adjust layout to prevent overlap and make the plot more aesthetically pleasing\n",
    "plt.tight_layout()\n",
    "\n",
    "# Show the plot\n",
    "plt.show()\n",
    "\n"
   ]
  },
  {
   "cell_type": "markdown",
   "metadata": {},
   "source": [
    "## Line graph "
   ]
  },
  {
   "cell_type": "code",
   "execution_count": 405,
   "metadata": {},
   "outputs": [],
   "source": [
    "# Creating a line graph for each stage diagnosed per year starting from 2005\n",
    "# Plot each stage as a separate trend line\n",
    "plt.figure(figsize=(12, 6))\n",
    "for column in stages_columns:\n",
    "    plt.plot(df_stages.index, df_stages[column], marker=\"o\", label=column)\n",
    "\n",
    "# Add labels and title\n",
    "plt.xlabel(\"Year of Diagnosis\")\n",
    "plt.ylabel(\"Total Cases by Stage\")\n",
    "plt.title(\"Cancer Diagnos at various stages Over Time\")\n",
    "\n",
    "# Formatting y-axis to show whole numbers (integers)\n",
    "plt.gca().yaxis.set_major_locator(MaxNLocator(integer=True))\n",
    "\n",
    "# Set x-ticks to show each year in the data\n",
    "plt.xticks(ticks=df_cleaned[\"Year\"].unique(), rotation=45)  # Ensures each year is a tick, rotated for better readability\n",
    "\n",
    "# Add a legend\n",
    "plt.legend(title=\"Cancer Stage\", fontsize=10, title_fontsize=12)\n",
    "\n",
    "# Add gridlines for better visibility\n",
    "plt.grid(True, linestyle=\"--\", alpha=0.6)\n",
    "\n",
    "# Set the y-axis limits (start at 1500, stop at 30000)\n",
    "plt.ylim(0, 22000)\n",
    "\n",
    "# Save the grouped bar graph (non-stacked)\n",
    "plt.tight_layout()  # Adjust layout to prevent overlap\n",
    "plt.savefig(os.path.join(output_dir, \"stages_per_year_grouped_bar_graph.png\"))\n",
    "plt.close() \n",
    "\n",
    "# Show the plot\n",
    "plt.show()\n"
   ]
  },
  {
   "cell_type": "markdown",
   "metadata": {},
   "source": [
    "## Trend line "
   ]
  },
  {
   "cell_type": "code",
   "execution_count": 406,
   "metadata": {},
   "outputs": [],
   "source": [
    "# creating a trend line for Each stage diagnosed per year starting from 2005\n",
    "# Plot each stage as a separate trend line\n",
    "plt.figure(figsize=(12, 6))\n",
    "\n",
    "for column in stages_columns:\n",
    "    # Plot the data points for each stage\n",
    "    plt.plot(df_stages.index, df_stages[column], marker=\"o\", label=column)\n",
    "    \n",
    "    # Calculate the trend line (linear regression)\n",
    "    slope, intercept, r_value, p_value, std_err = linregress(df_stages.index, df_stages[column])\n",
    "    \n",
    "    # Create the trend line\n",
    "    trend_line = slope * df_stages.index + intercept\n",
    "    \n",
    "    # Plot the trend line\n",
    "    plt.plot(df_stages.index, trend_line, linestyle='--', label=f'{column} Trend Line')\n",
    "\n",
    "# Add labels and title\n",
    "plt.xlabel(\"Year of Diagnosis\")\n",
    "plt.ylabel(\"Total Cases by Stage\")\n",
    "plt.title(\"Cancer Diagnoses at Various Stages Over Time with Trend Lines\")\n",
    "\n",
    "# Formatting y-axis to show whole numbers (integers)\n",
    "plt.gca().yaxis.set_major_locator(MaxNLocator(integer=True))\n",
    "\n",
    "# Set x-ticks to show each year in the data\n",
    "plt.xticks(ticks=df_cleaned[\"Year\"].unique(), rotation=45)  # Ensures each year is a tick, rotated for better readability\n",
    "\n",
    "# Add a legend\n",
    "plt.legend(title=\"Cancer Stage\", fontsize=10, title_fontsize=12)\n",
    "\n",
    "# Add gridlines for better visibility\n",
    "plt.grid(True, linestyle=\"--\", alpha=0.6)\n",
    "\n",
    "# Set the y-axis limits (start at 1500, stop at 30000)\n",
    "plt.ylim(0, 22000)\n",
    "\n",
    "\n",
    "# Save the trend line graph\n",
    "plt.savefig(os.path.join(output_dir, \"stages_over_time_with_trend_lines.png\"))\n",
    "plt.close()\n",
    "\n",
    "# Show the plot\n",
    "plt.show()\n"
   ]
  },
  {
   "cell_type": "markdown",
   "metadata": {},
   "source": [
    "# All visuals of number of cases per race per year"
   ]
  },
  {
   "cell_type": "markdown",
   "metadata": {},
   "source": [
    "## Table"
   ]
  },
  {
   "cell_type": "code",
   "execution_count": 407,
   "metadata": {},
   "outputs": [
    {
     "name": "stdout",
     "output_type": "stream",
     "text": [
      "Year  Race  \n",
      "2005  Black     22927\n",
      "      Others     3148\n",
      "      White     28056\n",
      "2006  Black     22545\n",
      "      Others     3144\n",
      "      White     27722\n",
      "2007  Black     22234\n",
      "      Others     3199\n",
      "      White     27509\n",
      "2008  Black     22052\n",
      "      Others     3191\n",
      "      White     27424\n",
      "2009  Black     22162\n",
      "      Others     3162\n",
      "      White     27618\n",
      "2010  Black     21357\n",
      "      Others     3211\n",
      "      White     26914\n",
      "2011  Black     20572\n",
      "      Others     3154\n",
      "      White     26046\n",
      "2012  Black     20131\n",
      "      Others     3119\n",
      "      White     25598\n",
      "2013  Black     20205\n",
      "      Others     3193\n",
      "      White     25717\n",
      "2014  Black     19988\n",
      "      Others     3144\n",
      "      White     25542\n",
      "2015  Black     20503\n",
      "      Others     3100\n",
      "      White     26184\n",
      "2016  Black     20491\n",
      "      Others     3167\n",
      "      White     26246\n",
      "2017  Black     20377\n",
      "      Others     3199\n",
      "      White     26344\n",
      "2018  Black     19990\n",
      "      Others     3160\n",
      "      White     25888\n",
      "2019  Black     20076\n",
      "      Others     3190\n",
      "      White     26084\n",
      "2020  Black     20332\n",
      "      Others     3305\n",
      "      White     26501\n",
      "2021  Black     18139\n",
      "      Others     2910\n",
      "      White     23661\n",
      "2022  Black     19613\n",
      "      Others     3229\n",
      "      White     26015\n",
      "Name: Total Documented Cases, dtype: int64\n"
     ]
    }
   ],
   "source": [
    "#Table of the number of cases per year per race \n",
    "# Group by 'Year' and 'Race' and sum 'Total Documented Cases'\n",
    "df_race_year = df_cleaned.groupby([\"Year\", \"Race\"])[\"Total Documented Cases\"].sum()\n",
    "\n",
    "print (df_race_year)\n"
   ]
  },
  {
   "cell_type": "markdown",
   "metadata": {},
   "source": [
    "## Line graph "
   ]
  },
  {
   "cell_type": "code",
   "execution_count": null,
   "metadata": {},
   "outputs": [],
   "source": [
    "#Creating a line graph number for of cases per race per year \n",
    "# Group by 'Year' and 'Race' and sum 'Total Documented Cases'\n",
    "df_race_year = df_cleaned.groupby([\"Year\", \"Race\"])[\"Total Documented Cases\"].sum().unstack()\n",
    "\n",
    "# Plot the data (you can adjust kind='line' or kind='bar' for the desired plot style)\n",
    "df_race_year.plot(kind='line', figsize=(12, 6), marker=\"o\")\n",
    "\n",
    "# Add labels and title\n",
    "plt.xlabel(\"Year of Diagnosis\")\n",
    "plt.ylabel(\"Total Documented Cases\")\n",
    "plt.title(\"Total Documented Cases Per Race Per Year\")\n",
    "\n",
    "# Formatting y-axis to show whole numbers (integers)\n",
    "from matplotlib.ticker import MaxNLocator\n",
    "plt.gca().yaxis.set_major_locator(MaxNLocator(integer=True))\n",
    "\n",
    "# Set x-ticks to show each year in the data\n",
    "plt.xticks(ticks=df_cleaned[\"Year\"].unique(), rotation=45)  # Ensures each year is a tick, rotated for better readability\n",
    "\n",
    "# Add a legend\n",
    "plt.legend(title=\"Race\", fontsize=10, title_fontsize=12)\n",
    "\n",
    "# Add gridlines for better visibility\n",
    "plt.grid(True, linestyle=\"--\", alpha=0.6)\n",
    "\n",
    "# Save the line graph\n",
    "plt.savefig(os.path.join(output_dir, \"cases_per_race_per_year_line_graph.png\"))\n",
    "plt.close()  \n",
    "\n",
    "\n",
    "# Show the plot\n",
    "plt.show()\n"
   ]
  },
  {
   "cell_type": "markdown",
   "metadata": {},
   "source": [
    "## Bar graph"
   ]
  },
  {
   "cell_type": "code",
   "execution_count": 426,
   "metadata": {},
   "outputs": [],
   "source": [
    "#Creating a bar graph for the number of cases per year per race\n",
    "# Group by 'Year' and 'Race' and sum 'Total Documented Cases'\n",
    "df_race_year = df_cleaned.groupby([\"Year\", \"Race\"])[\"Total Documented Cases\"].sum().unstack()\n",
    "\n",
    "# Plot the data as a bar graph\n",
    "df_race_year.plot(kind='bar', stacked=False, figsize=(12, 6))\n",
    "\n",
    "# Add labels and title\n",
    "plt.xlabel(\"Year of Diagnosis\")\n",
    "plt.ylabel(\"Total Documented Cases\")\n",
    "plt.title(\"Total Documented Cases Per Race Per Year\")\n",
    "\n",
    "# Formatting y-axis to show whole numbers (integers)\n",
    "from matplotlib.ticker import MaxNLocator\n",
    "plt.gca().yaxis.set_major_locator(MaxNLocator(integer=True))\n",
    "\n",
    "# Set x-ticks to show each year in the data\n",
    "plt.xticks(rotation=45)  # Ensures each year is a tick, rotated for better readability\n",
    "\n",
    "# Add a legend\n",
    "plt.legend(title=\"Race\", fontsize=10, title_fontsize=12)\n",
    "\n",
    "# Add gridlines for better visibility\n",
    "plt.grid(True, axis='y', linestyle=\"--\", alpha=0.6)\n",
    "\n",
    "# Save the bar graph\n",
    "plt.savefig(os.path.join(output_dir, \"cases_per_race_per_year_bar_graph.png\"))\n",
    "plt.close()\n",
    "\n",
    "# Show the plot\n",
    "plt.show()\n"
   ]
  },
  {
   "cell_type": "markdown",
   "metadata": {},
   "source": [
    "## Trend line"
   ]
  },
  {
   "cell_type": "code",
   "execution_count": 430,
   "metadata": {},
   "outputs": [],
   "source": [
    "# Creating a trend line for Diagnosis for Ethnicities per year \n",
    "# Group by 'Year' and 'Race' and sum 'Total Documented Cases'\n",
    "df_race_year = df_cleaned.groupby([\"Year\", \"Race\"])[\"Total Documented Cases\"].sum().unstack()\n",
    "\n",
    "# Plot the data for each race (with markers)\n",
    "plt.figure(figsize=(12, 6))\n",
    "df_race_year.plot(kind='line', marker=\"o\", ax=plt.gca())\n",
    "\n",
    "# Add trend lines for each race\n",
    "for race in df_race_year.columns:\n",
    "    # Get the data for this race\n",
    "    race_data = df_race_year[race].dropna()  # Remove any NaN values\n",
    "    \n",
    "    # Perform linear regression (find the slope and intercept)\n",
    "    slope, intercept, r_value, p_value, std_err = linregress(race_data.index, race_data.values)\n",
    "    \n",
    "    # Calculate the trend line for the race\n",
    "    trend_line = slope * race_data.index + intercept\n",
    "    \n",
    "    # Plot the trend line for the race (dashed line)\n",
    "    plt.plot(race_data.index, trend_line, linestyle='--', label=f'{race} Trend Line')\n",
    "\n",
    "# Add labels and title\n",
    "plt.xlabel(\"Year of Diagnosis\")\n",
    "plt.ylabel(\"Total Documented Cases\")\n",
    "plt.title(\"Total Documented Cases Per Race Per Year with Trend Lines\")\n",
    "\n",
    "# Formatting y-axis to show whole numbers (integers)\n",
    "plt.gca().yaxis.set_major_locator(MaxNLocator(integer=True))\n",
    "\n",
    "# Set x-ticks to show each year in the data\n",
    "plt.xticks(ticks=df_cleaned[\"Year\"].unique(), rotation=45)  # Ensures each year is a tick, rotated for better readability\n",
    "\n",
    "# Add a legend\n",
    "plt.legend(title=\"Race & Trend Line\", fontsize=10, title_fontsize=12)\n",
    "\n",
    "# Add gridlines for better visibility\n",
    "plt.grid(True, linestyle=\"--\", alpha=0.6)\n",
    "\n",
    "# Save the trend line plot\n",
    "plt.savefig(os.path.join(output_dir, \"cases_per_race_per_year_with_trend_lines.png\"))\n",
    "plt.close()\n",
    "\n",
    "# Show the plot\n",
    "plt.show()\n"
   ]
  },
  {
   "cell_type": "markdown",
   "metadata": {},
   "source": [
    "# All Visuals for Sex"
   ]
  },
  {
   "cell_type": "markdown",
   "metadata": {},
   "source": [
    "## Table "
   ]
  },
  {
   "cell_type": "code",
   "execution_count": 411,
   "metadata": {},
   "outputs": [
    {
     "name": "stdout",
     "output_type": "stream",
     "text": [
      "Sex   Female   Male\n",
      "Year               \n",
      "2005   27268  26863\n",
      "2006   27014  26397\n",
      "2007   26898  26044\n",
      "2008   26348  26319\n",
      "2009   26437  26505\n",
      "2010   25947  25535\n",
      "2011   25132  24640\n",
      "2012   24416  24432\n",
      "2013   24618  24497\n",
      "2014   24264  24410\n",
      "2015   24581  25206\n",
      "2016   24601  25303\n",
      "2017   24969  24951\n",
      "2018   24599  24439\n",
      "2019   24590  24760\n",
      "2020   24575  25563\n",
      "2021   22397  22313\n",
      "2022   24413  24444\n"
     ]
    }
   ],
   "source": [
    "# Table for Total cases per year per sex\n",
    "# Group by 'Year' and 'Sex' and sum 'Total Documented Cases'\n",
    "df_sex_year = df_cleaned.groupby([\"Year\", \"Sex\"])[\"Total Documented Cases\"].sum().unstack()\n",
    "\n",
    "print(df_sex_year)"
   ]
  },
  {
   "cell_type": "markdown",
   "metadata": {},
   "source": [
    "## Bar Graph"
   ]
  },
  {
   "cell_type": "code",
   "execution_count": 429,
   "metadata": {},
   "outputs": [],
   "source": [
    "\n",
    "# creating a bar graph  for Total cases per year per sex\n",
    "# Group by 'Year' and 'Sex' and sum 'Total Documented Cases'\n",
    "df_sex_year = df_cleaned.groupby([\"Year\", \"Sex\"])[\"Total Documented Cases\"].sum().unstack()\n",
    "\n",
    "# Plot a bar graph\n",
    "df_sex_year.plot(kind='bar', figsize=(12, 6), stacked=False)\n",
    "\n",
    "# Add labels and title\n",
    "plt.xlabel(\"Year of Diagnosis\")\n",
    "plt.ylabel(\"Total Documented Cases\")\n",
    "plt.title(\"Total Documented Cancer Cases Per Year Per Sex\")\n",
    "\n",
    "# Formatting y-axis to show whole numbers (integers)\n",
    "plt.gca().yaxis.set_major_locator(MaxNLocator(integer=True))\n",
    "\n",
    "# Set x-ticks to show each year in the data\n",
    "plt.xticks(rotation=45)\n",
    "\n",
    "# Add a legend\n",
    "plt.legend(title=\"Sex\", fontsize=10, title_fontsize=12)\n",
    "\n",
    "# Add gridlines for better visibility\n",
    "plt.grid(True, axis='y', linestyle=\"--\", alpha=0.6)\n",
    "\n",
    "# Save the bar graph\n",
    "plt.savefig(os.path.join(output_dir, \"cases_per_sex_per_year_bar_graph.png\"))\n",
    "plt.close()\n",
    "\n",
    "# Show the plot\n",
    "plt.show()\n"
   ]
  },
  {
   "cell_type": "markdown",
   "metadata": {},
   "source": [
    "## Line graph "
   ]
  },
  {
   "cell_type": "code",
   "execution_count": 433,
   "metadata": {},
   "outputs": [],
   "source": [
    "# creating a trend line for Total cases per year per sex\n",
    "# Group by 'Year' and 'Sex' and sum 'Total Documented Cases'\n",
    "df_sex_year = df_cleaned.groupby([\"Year\", \"Sex\"])[\"Total Documented Cases\"].sum().unstack()\n",
    "\n",
    "# Plot a line graph\n",
    "df_sex_year.plot(kind='line', figsize=(12, 6), marker=\"o\")\n",
    "\n",
    "# Add labels and title\n",
    "plt.xlabel(\"Year of Diagnosis\")\n",
    "plt.ylabel(\"Total Documented Cases\")\n",
    "plt.title(\"Total Documented Cancer Cases Per Year Per Sex\")\n",
    "\n",
    "# Formatting y-axis to show whole numbers (integers)\n",
    "plt.gca().yaxis.set_major_locator(MaxNLocator(integer=True))\n",
    "\n",
    "# Set x-ticks to show each individual year\n",
    "plt.xticks(df_sex_year.index, rotation=45)\n",
    "\n",
    "# Add a legend\n",
    "plt.legend(title=\"Sex\", fontsize=10, title_fontsize=12)\n",
    "\n",
    "# Add gridlines for better visibility\n",
    "plt.grid(True, linestyle=\"--\", alpha=0.6)\n",
    "\n",
    "# Save the line graph\n",
    "plt.savefig(os.path.join(output_dir, \"cases_per_sex_per_year_line_graph.png\"))\n",
    "plt.close()\n",
    "\n",
    "# Show the plot\n",
    "plt.show()\n",
    "\n"
   ]
  },
  {
   "cell_type": "markdown",
   "metadata": {},
   "source": [
    "## Trend line "
   ]
  },
  {
   "cell_type": "code",
   "execution_count": 434,
   "metadata": {},
   "outputs": [],
   "source": [
    "# Trend line for total documented cases per sex per year \n",
    "# Group by 'Year' and 'Sex' and sum 'Total Documented Cases'\n",
    "df_sex_year = df_cleaned.groupby([\"Year\", \"Sex\"])[\"Total Documented Cases\"].sum().unstack()\n",
    "\n",
    "# Plot the original data (line plot)\n",
    "plt.figure(figsize=(12, 6))\n",
    "\n",
    "# Loop through each sex category to plot the lines and trend lines\n",
    "for sex in df_sex_year.columns:\n",
    "    # Plot the line for the current sex category\n",
    "    plt.plot(df_sex_year.index, df_sex_year[sex], marker=\"o\", label=sex)\n",
    "\n",
    "    # Calculate the trend line (linear regression)\n",
    "    slope, intercept, r_value, p_value, std_err = linregress(df_sex_year.index, df_sex_year[sex])\n",
    "\n",
    "    # Create the trend line\n",
    "    trend_line = slope * df_sex_year.index + intercept\n",
    "\n",
    "    # Plot the trend line\n",
    "    plt.plot(df_sex_year.index, trend_line, linestyle='--', label=f'{sex} Trend Line')\n",
    "\n",
    "# Add labels and title\n",
    "plt.xlabel(\"Year of Diagnosis\")\n",
    "plt.ylabel(\"Total Documented Cases\")\n",
    "plt.title(\"Total Documented Cancer Cases Per Year Per Sex with Trend Lines\")\n",
    "\n",
    "# Formatting y-axis to show whole numbers (integers)\n",
    "plt.gca().yaxis.set_major_locator(MaxNLocator(integer=True))\n",
    "\n",
    "# Set x-ticks to show each individual year\n",
    "plt.xticks(df_sex_year.index, rotation=45)\n",
    "\n",
    "# Add a legend\n",
    "plt.legend(title=\"Sex\", fontsize=10, title_fontsize=12)\n",
    "\n",
    "# Add gridlines for better visibility\n",
    "plt.grid(True, linestyle=\"--\", alpha=0.6)\n",
    "\n",
    "# Save the trend line plot\n",
    "plt.savefig(os.path.join(output_dir, \"cases_per_sex_per_year_with_trend_lines.png\"))\n",
    "plt.close()\n",
    "\n",
    "# Show the plot\n",
    "plt.show()\n"
   ]
  },
  {
   "cell_type": "code",
   "execution_count": 435,
   "metadata": {},
   "outputs": [],
   "source": [
    "#For only males \n",
    "# Filter the data to include only males\n",
    "df_male = df_cleaned[df_cleaned[\"Sex\"] == \"Male\"]\n",
    "\n",
    "# Group by 'Year' and sum 'Total Documented Cases' for males only\n",
    "df_male_year = df_male.groupby(\"Year\")[\"Total Documented Cases\"].sum()\n",
    "\n",
    "# Plot the original data for males\n",
    "plt.figure(figsize=(12, 6))\n",
    "plt.plot(df_male_year.index, df_male_year, marker=\"o\", label=\"Male\")\n",
    "\n",
    "# Calculate the trend line (linear regression) for males\n",
    "slope, intercept, r_value, p_value, std_err = linregress(df_male_year.index, df_male_year)\n",
    "\n",
    "# Create the trend line for males\n",
    "trend_line = slope * df_male_year.index + intercept\n",
    "\n",
    "# Plot the trend line for males\n",
    "plt.plot(df_male_year.index, trend_line, linestyle='--', label='Male Trend Line')\n",
    "\n",
    "# Add labels and title\n",
    "plt.xlabel(\"Year of Diagnosis\")\n",
    "plt.ylabel(\"Total Documented Cases\")\n",
    "plt.title(\"Total Documented Cancer Cases for Males Per Year with Trend Line\")\n",
    "\n",
    "# Formatting y-axis to show whole numbers (integers)\n",
    "plt.gca().yaxis.set_major_locator(MaxNLocator(integer=True))\n",
    "\n",
    "# Set x-ticks to show each individual year\n",
    "plt.xticks(df_male_year.index, rotation=45)\n",
    "\n",
    "# Add a legend\n",
    "plt.legend(title=\"Sex\", fontsize=10, title_fontsize=12)\n",
    "\n",
    "# Add gridlines for better visibility\n",
    "plt.grid(True, linestyle=\"--\", alpha=0.6)\n",
    "\n",
    "# Save the male trend line plot\n",
    "plt.savefig(os.path.join(output_dir, \"cases_for_males_per_year_with_trend_line.png\"))\n",
    "plt.close()\n",
    "\n",
    "# Show the plot\n",
    "plt.show()\n"
   ]
  },
  {
   "cell_type": "code",
   "execution_count": 437,
   "metadata": {},
   "outputs": [],
   "source": [
    "# Female only\n",
    "# Filter the data to include only females\n",
    "df_female = df_cleaned[df_cleaned[\"Sex\"] == \"Female\"]\n",
    "\n",
    "# Group by 'Year' and sum 'Total Documented Cases' for females only\n",
    "df_female_year = df_female.groupby(\"Year\")[\"Total Documented Cases\"].sum()\n",
    "\n",
    "# Plot the original data for females\n",
    "plt.figure(figsize=(12, 6))\n",
    "plt.plot(df_female_year.index, df_female_year, marker=\"o\", label=\"Female\")\n",
    "\n",
    "# Calculate the trend line (linear regression) for females\n",
    "slope, intercept, r_value, p_value, std_err = linregress(df_female_year.index, df_female_year)\n",
    "\n",
    "# Create the trend line for females\n",
    "trend_line = slope * df_female_year.index + intercept\n",
    "\n",
    "# Plot the trend line for females\n",
    "plt.plot(df_female_year.index, trend_line, linestyle='--', label='Female Trend Line')\n",
    "\n",
    "# Add labels and title\n",
    "plt.xlabel(\"Year of Diagnosis\")\n",
    "plt.ylabel(\"Total Documented Cases\")\n",
    "plt.title(\"Total Documented Cancer Cases for Females Per Year with Trend Line\")\n",
    "\n",
    "# Formatting y-axis to show whole numbers (integers)\n",
    "plt.gca().yaxis.set_major_locator(MaxNLocator(integer=True))\n",
    "\n",
    "# Set x-ticks to show each individual year\n",
    "plt.xticks(df_female_year.index, rotation=45)\n",
    "\n",
    "# Add a legend\n",
    "plt.legend(title=\"Sex\", fontsize=10, title_fontsize=12)\n",
    "\n",
    "# Add gridlines for better visibility\n",
    "plt.grid(True, linestyle=\"--\", alpha=0.6)\n",
    "\n",
    "# Save the female trend line plot\n",
    "plt.savefig(os.path.join(output_dir, \"cases_for_females_per_year_with_trend_line.png\"))\n",
    "plt.close()\n",
    "\n",
    "# Show the plot\n",
    "plt.show()\n"
   ]
  },
  {
   "cell_type": "markdown",
   "metadata": {},
   "source": [
    "## All visuals for Age"
   ]
  },
  {
   "cell_type": "markdown",
   "metadata": {},
   "source": [
    "## Table"
   ]
  },
  {
   "cell_type": "code",
   "execution_count": 417,
   "metadata": {},
   "outputs": [
    {
     "name": "stdout",
     "output_type": "stream",
     "text": [
      "Age   1-4 years  10-14 years  15-19 years  20-24 years  25-29 years  \\\n",
      "Year                                                                  \n",
      "2005          0            6           34           80          115   \n",
      "2006          0            6           30           52          141   \n",
      "2007          0           10           29           70          134   \n",
      "2008          0            5           23           53          139   \n",
      "2009          0            4           32           63          134   \n",
      "2010          0            0           29           65          146   \n",
      "2011          0            6           24           83          167   \n",
      "2012          0           14           27           88          168   \n",
      "2013          0            8           42          101          204   \n",
      "2014          0           32           56           84          169   \n",
      "2015          0           32           70           96          261   \n",
      "2016          0           69          133          198          312   \n",
      "2017          0           80          183          199          293   \n",
      "2018          2           63          131          198          303   \n",
      "2019          0           77          141          201          312   \n",
      "2020          0           66          150          211          298   \n",
      "2021          0           77          146          186          275   \n",
      "2022          2           92          130          186          330   \n",
      "\n",
      "Age   30-34 years  35-39 years  40-44 years  45-49 years  5-9 years  \\\n",
      "Year                                                                  \n",
      "2005          283          583         1135         2081          0   \n",
      "2006          312          558         1133         2098          0   \n",
      "2007          305          570         1184         1991          0   \n",
      "2008          250          542         1201         2057          0   \n",
      "2009          273          663         1091         2027          0   \n",
      "2010          274          561         1197         2170          0   \n",
      "2011          358          522         1101         2302          0   \n",
      "2012          292          627         1150         2064          0   \n",
      "2013          342          556         1077         2127          0   \n",
      "2014          386          637         1171         2057          4   \n",
      "2015          437          667         1257         2090         10   \n",
      "2016          420          716         1271         2222         20   \n",
      "2017          510          743         1243         2223         10   \n",
      "2018          500          806         1308         2353          8   \n",
      "2019          474          790         1291         2201          9   \n",
      "2020          465          844         1264         2267         17   \n",
      "2021          550          805         1250         2086         12   \n",
      "2022          507          887         1449         2310         17   \n",
      "\n",
      "Age   50-54 years  55-59 years  60-64 years  65-69 years  70-74 years  \\\n",
      "Year                                                                    \n",
      "2005         3728         4555         5148         6294         7399   \n",
      "2006         3645         4639         5323         6152         6866   \n",
      "2007         3682         4711         5182         6372         6879   \n",
      "2008         3890         4745         5618         6399         6802   \n",
      "2009         3935         4867         5465         6394         6737   \n",
      "2010         4207         4471         5516         6141         6455   \n",
      "2011         3981         4456         5622         6001         6279   \n",
      "2012         3863         4363         5683         5877         6136   \n",
      "2013         4145         4501         5343         6342         6229   \n",
      "2014         4071         4649         5390         6353         6099   \n",
      "2015         4223         4925         5634         6558         6107   \n",
      "2016         4266         4820         5737         6561         5955   \n",
      "2017         4385         4711         5732         7027         6028   \n",
      "2018         4052         4623         5477         6601         6357   \n",
      "2019         3914         4624         5675         6450         6568   \n",
      "2020         4278         4789         5804         6575         6509   \n",
      "2021         3629         3933         4997         5871         5872   \n",
      "2022         4218         4300         5512         6381         6532   \n",
      "\n",
      "Age   75-79 years  80-84 years   85+  <1 year  unknown age  \n",
      "Year                                                        \n",
      "2005         7959         7761  6969        1            0  \n",
      "2006         7875         7453  7128        0            0  \n",
      "2007         7582         7274  6967        0            0  \n",
      "2008         7189         6738  7016        0            0  \n",
      "2009         7188         6799  7268        2            0  \n",
      "2010         6746         6310  7194        0            0  \n",
      "2011         6081         5982  6807        0            0  \n",
      "2012         5930         5863  6703        0            0  \n",
      "2013         5944         5609  6545        0            0  \n",
      "2014         5573         5613  6330        0            0  \n",
      "2015         5779         5279  6362        0            0  \n",
      "2016         5642         5261  6301        0            0  \n",
      "2017         5528         4797  6228        0            0  \n",
      "2018         5380         4972  5902        2            0  \n",
      "2019         5567         4986  6070        0            0  \n",
      "2020         5688         4884  6029        0            0  \n",
      "2021         5118         4383  5518        2            0  \n",
      "2022         5608         4591  5803        2            0  \n"
     ]
    }
   ],
   "source": [
    "# table for all documented cases by age per year\n",
    "# Group by 'Year' and 'Age', then sum the 'Total Documented Cases'\n",
    "df_age_year = df_cleaned.groupby([\"Year\", \"Age\"])[\"Total Documented Cases\"].sum().unstack()\n",
    "\n",
    "# Display the resulting table\n",
    "print(df_age_year)\n"
   ]
  },
  {
   "cell_type": "markdown",
   "metadata": {},
   "source": [
    "## Bar Graph"
   ]
  },
  {
   "cell_type": "code",
   "execution_count": 438,
   "metadata": {},
   "outputs": [
    {
     "data": {
      "text/plain": [
       "<Figure size 640x480 with 0 Axes>"
      ]
     },
     "metadata": {},
     "output_type": "display_data"
    }
   ],
   "source": [
    "# Paragraphed of total documented cases of cancer per year per age group\n",
    "# Plotting the grouped bar chart (side-by-side bars for each age group)\n",
    "ax = df_age_year.plot(kind='bar', figsize=(12, 6), width=0.8, colormap='tab20', edgecolor='none')\n",
    "\n",
    "# Add labels and title\n",
    "plt.xlabel(\"Year of Diagnosis\")\n",
    "plt.ylabel(\"Total Documented Cases\")\n",
    "plt.title(\"Cancer Diagnoses by Age Group Paragraphed of total documented cases of cancer per year per age groupper Year\")\n",
    "\n",
    "# Format the y-axis to show whole numbers\n",
    "plt.gca().yaxis.set_major_locator(plt.MaxNLocator(integer=True))\n",
    "\n",
    "# Rotate x-axis labels for better readability\n",
    "plt.xticks(rotation=45)\n",
    "\n",
    "# Add gridlines for better visibility\n",
    "plt.grid(True, axis='y', linestyle=\"--\", alpha=0.6)\n",
    "\n",
    "\n",
    "# Save the bar graph\n",
    "plt.tight_layout()\n",
    "plt.savefig(os.path.join(output_dir, \"cancer_diagnoses_by_age_group_per_year.png\"))\n",
    "plt.close()\n",
    "\n",
    "# Show the plot\n",
    "plt.tight_layout()\n",
    "plt.show()\n"
   ]
  },
  {
   "cell_type": "code",
   "execution_count": 443,
   "metadata": {},
   "outputs": [
    {
     "data": {
      "text/plain": [
       "<Figure size 640x480 with 0 Axes>"
      ]
     },
     "metadata": {},
     "output_type": "display_data"
    }
   ],
   "source": [
    "# Bar graph total documented cases per age group \n",
    "# Group by 'Age' and sum 'Total Documented Cases'\n",
    "df_age_cases = df_cleaned.groupby('Age')['Total Documented Cases'].sum()\n",
    "\n",
    "# Plotting the bar chart with total documented cases against age\n",
    "ax = df_age_cases.plot(kind='bar', figsize=(12, 6), width=0.8, colormap='tab20', edgecolor='none')\n",
    "\n",
    "# Add labels and title\n",
    "plt.xlabel(\"Age\")\n",
    "plt.ylabel(\"Total Documented Cases\")\n",
    "plt.title(\"Cancer Diagnoses by Age\")\n",
    "\n",
    "# Format the y-axis to show whole numbers\n",
    "plt.gca().yaxis.set_major_locator(plt.MaxNLocator(integer=True))\n",
    "\n",
    "# Rotate x-axis labels for better readability \n",
    "plt.xticks(rotation=45)\n",
    "\n",
    "# Add gridlines for better visibility\n",
    "plt.grid(True, axis='y', linestyle=\"--\", alpha=0.6)\n",
    "\n",
    "\n",
    "# Save the bar graph for total cases by age\n",
    "plt.tight_layout()\n",
    "plt.savefig(os.path.join(output_dir, \"total_cases_by_age_group_bargraph.png\"))\n",
    "plt.close()\n",
    "\n",
    "# Show the plot\n",
    "plt.tight_layout()\n",
    "plt.show()\n",
    "\n"
   ]
  },
  {
   "cell_type": "markdown",
   "metadata": {},
   "source": [
    "## Line Graph"
   ]
  },
  {
   "cell_type": "code",
   "execution_count": 444,
   "metadata": {},
   "outputs": [
    {
     "data": {
      "text/plain": [
       "<Figure size 640x480 with 0 Axes>"
      ]
     },
     "metadata": {},
     "output_type": "display_data"
    }
   ],
   "source": [
    "\n",
    "# Plotting the line graph instead of the grouped bar chart\n",
    "ax = df_age_year.plot(kind='line', figsize=(12, 6), marker='o', colormap='tab20')\n",
    "\n",
    "# Add labels and title\n",
    "plt.xlabel(\"Year of Diagnosis\")\n",
    "plt.ylabel(\"Total Documented Cases\")\n",
    "plt.title(\"Cancer Diagnoses by Age Group per Year\")\n",
    "\n",
    "# Format the y-axis to show whole numbers\n",
    "plt.gca().yaxis.set_major_locator(plt.MaxNLocator(integer=True))\n",
    "\n",
    "# Rotate x-axis labels for better readability\n",
    "plt.xticks(rotation=45)\n",
    "\n",
    "# Add gridlines for better visibility\n",
    "plt.grid(True, axis='y', linestyle=\"--\", alpha=0.6)\n",
    "\n",
    "\n",
    "# Save the line graph\n",
    "plt.tight_layout()\n",
    "plt.savefig(os.path.join(output_dir, \"cancer_diagnoses_by_age_group_line_graph.png\"))\n",
    "plt.close()\n",
    "\n",
    "# Show the plot\n",
    "plt.tight_layout()\n",
    "plt.show()\n",
    "\n"
   ]
  },
  {
   "cell_type": "code",
   "execution_count": 445,
   "metadata": {},
   "outputs": [
    {
     "data": {
      "text/plain": [
       "<Figure size 640x480 with 0 Axes>"
      ]
     },
     "metadata": {},
     "output_type": "display_data"
    }
   ],
   "source": [
    "\n",
    "# Plotting the line graph with total documented cases against age\n",
    "ax = df_age_cases.plot(kind='line', figsize=(12, 6), marker='o', colormap='tab20')\n",
    "\n",
    "# Add labels and title\n",
    "plt.xlabel(\"Age\")\n",
    "plt.ylabel(\"Total Documented Cases\")\n",
    "plt.title(\"Cancer Diagnoses by Age\")\n",
    "\n",
    "# Format the y-axis to show whole numbers\n",
    "plt.gca().yaxis.set_major_locator(plt.MaxNLocator(integer=True))\n",
    "\n",
    "# Ensure that each unique age value is shown on the x-axis\n",
    "plt.xticks(ticks=range(len(df_age_cases.index)), labels=df_age_cases.index, rotation=45)\n",
    "\n",
    "# Add gridlines for better visibility\n",
    "plt.grid(True, axis='y', linestyle=\"--\", alpha=0.6)\n",
    "\n",
    "\n",
    "# Save the line graph for total cases by age\n",
    "plt.tight_layout()\n",
    "plt.savefig(os.path.join(output_dir, \"total_cases_by_age_line_graph.png\"))\n",
    "plt.close()\n",
    "\n",
    "# Show the plot\n",
    "plt.tight_layout()\n",
    "plt.show()\n"
   ]
  },
  {
   "cell_type": "markdown",
   "metadata": {},
   "source": [
    "## Trend line "
   ]
  },
  {
   "cell_type": "code",
   "execution_count": 446,
   "metadata": {},
   "outputs": [
    {
     "data": {
      "text/plain": [
       "<Figure size 640x480 with 0 Axes>"
      ]
     },
     "metadata": {},
     "output_type": "display_data"
    }
   ],
   "source": [
    "\n",
    "# Plotting the line graph instead of the grouped bar chart\n",
    "ax = df_age_year.plot(kind='line', figsize=(12, 6), marker='o', colormap='tab20')\n",
    "\n",
    "# Add trend lines (linear regression) for each age group\n",
    "for column in df_age_year.columns:\n",
    "    # Get the data for the specific age group (column)\n",
    "    y = df_age_year[column]\n",
    "    x = np.array(range(len(y)))  # Create an x-axis array (index of years)\n",
    "    \n",
    "    # Perform linear regression to get the slope and intercept\n",
    "    slope, intercept, _, _, _ = linregress(x, y)\n",
    "    \n",
    "    # Calculate the trend line using the slope and intercept\n",
    "    trend_line = slope * x + intercept\n",
    "    \n",
    "    # Plot the trend line\n",
    "    ax.plot(df_age_year.index, trend_line, label=f\"{column} Trend\", linestyle='--', color=ax.get_lines()[-1].get_color())\n",
    "\n",
    "# Add labels and title\n",
    "plt.xlabel(\"Year of Diagnosis\")\n",
    "plt.ylabel(\"Total Documented Cases\")\n",
    "plt.title(\"Cancer Diagnoses by Age Group per Year with Trend Lines\")\n",
    "\n",
    "# Format the y-axis to show whole numbers\n",
    "plt.gca().yaxis.set_major_locator(plt.MaxNLocator(integer=True))\n",
    "\n",
    "# Rotate x-axis labels for better readability\n",
    "plt.xticks(rotation=45)\n",
    "\n",
    "# Add gridlines for better visibility\n",
    "plt.grid(True, axis='y', linestyle=\"--\", alpha=0.6)\n",
    "\n",
    "# Show the legend\n",
    "plt.legend()\n",
    "\n",
    "\n",
    "# Save the trend line plot for age groups\n",
    "plt.tight_layout()\n",
    "plt.savefig(os.path.join(output_dir, \"cancer_diagnoses_by_age_group_with_trend_lines.png\"))\n",
    "plt.close()\n",
    "\n",
    "# Show the plot\n",
    "plt.tight_layout()\n",
    "plt.show()\n"
   ]
  },
  {
   "cell_type": "code",
   "execution_count": 447,
   "metadata": {},
   "outputs": [
    {
     "data": {
      "text/plain": [
       "<Figure size 640x480 with 0 Axes>"
      ]
     },
     "metadata": {},
     "output_type": "display_data"
    }
   ],
   "source": [
    "# Trend line total documented cases per age group\n",
    "# Plotting the trend line with total documented cases against age\n",
    "ax = df_age_cases.plot(kind='line', figsize=(12, 6), marker='o', colormap='tab20')\n",
    "\n",
    "# Add labels and title\n",
    "plt.xlabel(\"Age\")\n",
    "plt.ylabel(\"Total Documented Cases\")\n",
    "plt.title(\"Cancer Diagnoses by Age\")\n",
    "\n",
    "# Format the y-axis to show whole numbers\n",
    "plt.gca().yaxis.set_major_locator(plt.MaxNLocator(integer=True))\n",
    "\n",
    "# Ensure that each unique age value is shown on the x-axis\n",
    "plt.xticks(ticks=range(len(df_age_cases.index)), labels=df_age_cases.index, rotation=45)\n",
    "\n",
    "# Add gridlines for better visibility\n",
    "plt.grid(True, axis='y', linestyle=\"--\", alpha=0.6)\n",
    "\n",
    "# Save the trend line plot for total cases by age\n",
    "plt.tight_layout()\n",
    "plt.savefig(os.path.join(output_dir, \"total_cases_by_age_with_trend_line.png\"))\n",
    "plt.close()\n",
    "\n",
    "# Show the plot\n",
    "plt.tight_layout()\n",
    "plt.show()\n"
   ]
  },
  {
   "cell_type": "markdown",
   "metadata": {},
   "source": [
    "# Extra Visuals "
   ]
  },
  {
   "cell_type": "code",
   "execution_count": 448,
   "metadata": {},
   "outputs": [
    {
     "name": "stdout",
     "output_type": "stream",
     "text": [
      "All visuals for cancer diagnoses by age have been saved to the 'output_data' folder.\n"
     ]
    }
   ],
   "source": [
    "print(\"All visuals for cancer diagnoses by age have been saved to the 'output_data' folder.\")"
   ]
  },
  {
   "cell_type": "code",
   "execution_count": 424,
   "metadata": {},
   "outputs": [],
   "source": [
    "# Creating a graph for toal in In the natural position of diagnosis' per year with whole numbers"
   ]
  }
 ],
 "metadata": {
  "kernelspec": {
   "display_name": "dev2.2",
   "language": "python",
   "name": "python3"
  },
  "language_info": {
   "codemirror_mode": {
    "name": "ipython",
    "version": 3
   },
   "file_extension": ".py",
   "mimetype": "text/x-python",
   "name": "python",
   "nbconvert_exporter": "python",
   "pygments_lexer": "ipython3",
   "version": "3.10.16"
  }
 },
 "nbformat": 4,
 "nbformat_minor": 2
}
